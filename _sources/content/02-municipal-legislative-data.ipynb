{
 "cells": [
  {
   "attachments": {},
   "cell_type": "markdown",
   "metadata": {},
   "source": [
    "# Municipal Legislative (Text) Data\n",
    "\n",
    "intro to CDP data\n",
    "\n",
    "\n",
    "AND readings\n",
    "\n",
    "Read Alexander Sahn's paper:\n",
    "https://www.csdpconferences.org/uploads/1/3/2/7/13271319/public_meetings_paper.pdf\n",
    "it's 20 pages of core text and then a lot of supplemental figures and tables"
   ]
  },
  {
   "cell_type": "markdown",
   "metadata": {},
   "source": []
  }
 ],
 "metadata": {
  "kernelspec": {
   "display_name": "ml-for-pit",
   "language": "python",
   "name": "python3"
  },
  "language_info": {
   "name": "python",
   "version": "3.11.0"
  },
  "orig_nbformat": 4,
  "vscode": {
   "interpreter": {
    "hash": "58cd6e08b9735120d5b4eff7d74c8f325757ca8d93d795a23730f4ff64520fa2"
   }
  }
 },
 "nbformat": 4,
 "nbformat_minor": 2
}
