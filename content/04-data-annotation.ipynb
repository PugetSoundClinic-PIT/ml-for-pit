{
 "cells": [
  {
   "attachments": {},
   "cell_type": "markdown",
   "metadata": {},
   "source": [
    "# Data Annotation\n",
    "\n",
    "Here is the thinking for the plan for the rest of the quarter.\n",
    "\n",
    "In short: we want to annotate and train our own models for predicting local interest groups and other references. That way, when we run roughly the same analysis you ran before, we can swap out the spacy base model for our custom one that specifically predicts local interest group references -- hopefully providing us a much better dataset to study.\n",
    "\n",
    "With that said, here is this weeks work:\n",
    "Review this short page on \"what is means to annotate data\": https://www.geeksforgeeks.org/whats-text-annotation-and-its-types-in-machine-learning/\n",
    "\n",
    "Then, each of you should listen and read through the following meetings:\n",
    "http://councildataproject.org/seattle/#/events/9430939b4abe\n",
    "http://councildataproject.org/seattle/#/events/6f52f563ca3d\n",
    "\n",
    "as you listen and read through them, create a list of the references people make to the organizations they represent -- from a quick look I see one person is saying they represent \"SeattleStop.org\", and another saying they represent Doordash.\n",
    "\n",
    "Make notes about these references -- who is it, who are they saying they represent, etc. Additionally, keep a rough estimate in your head of how many people you think are representing larger organizations or are just speaking for themselves (i.e. 20% of people reference an organization while 80% of people are there giving a public comment JUST for themselves)\n",
    "\n",
    "additionally after the public comment period, be on the lookout for references to these orgs later on. Do the councilmembers themselves name certain organizations or people?\n",
    "\n",
    "Each of you should have a google doc with your own notes to share on Friday\n",
    "\n",
    "The point of that manual review is so that we can come up with annotation criteria together on Friday. If we are seeing the same two meetings differently, then when we start our larger annotation of more meetings, the data we produce will be all over the place. We want to be unified in our annotation criteria.\n",
    "\n",
    "Review the Prodigy paragraph / table on \"Named Entity Recognition vs Span Categorization\": https://prodi.gy/docs/span-categorization#ner-vs-spancat\n",
    "\n",
    "Try the Prodigy demo: https://demo.prodi.gy/?=null&view_id=ner_manual for both NER and Span-Cat\n",
    "Work together on the following -- \"If we want to create a model which predicts, 'individual and local interest group references (and activity) in municipal meetings then we ____'\n",
    "\n",
    "Should use a named-entity recognition model?\n",
    "Should use a span-cat model?\n",
    "Should use a combination of the two?\n",
    "Then, work together to refine the labels we proposed in meeting on Friday: https://docs.google.com/document/d/1KbxoRHj5mZMq5kAtvUJ1cvEWSZga_9L_GKD3ZOVr0Z4/edit?usp=sharing\n",
    "\n",
    "each label should be distinct, have a name, a description, and examples -- it should be clear to you when given a new example as to which label it belongs in\n",
    "\n",
    "If in the process of refining the labels, you need to go back to 3, do so. This type of annotation and refinement is always iterative. It is the basis on which the rest of the work is done. It might help to go through the process of annotating a few sentences of the meeting again using your new labels and record the exact method you are using to decide how to label something. Are you looking at the whole sentence first to identify something about it, then looking from something within? How you annotate something is a good determinate for what type of model to train."
   ]
  },
  {
   "cell_type": "markdown",
   "metadata": {},
   "source": []
  }
 ],
 "metadata": {
  "kernelspec": {
   "display_name": "ml-for-pit",
   "language": "python",
   "name": "python3"
  },
  "language_info": {
   "name": "python",
   "version": "3.11.0"
  },
  "orig_nbformat": 4,
  "vscode": {
   "interpreter": {
    "hash": "58cd6e08b9735120d5b4eff7d74c8f325757ca8d93d795a23730f4ff64520fa2"
   }
  }
 },
 "nbformat": 4,
 "nbformat_minor": 2
}
