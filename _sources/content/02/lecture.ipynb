{
 "cells": [
  {
   "cell_type": "markdown",
   "metadata": {},
   "source": [
    "# Lecture 2 -- Municipal Legislative (Text) Data\n",
    "\n",
    "intro to CDP data\n",
    "\n",
    "\n",
    "AND readings\n",
    "\n",
    "Read Alexander Sahn's paper:\n",
    "https://www.csdpconferences.org/uploads/1/3/2/7/13271319/public_meetings_paper.pdf\n",
    "it's 20 pages of core text and then a lot of supplemental figures and tables"
   ]
  },
  {
   "cell_type": "markdown",
   "metadata": {},
   "source": [
    "## Municipal Legislative Data Types\n",
    "\n",
    "Think about the process of passing a bill in a municipal council -- if it helps, go watch a council meeting and after think about all of the possible things you heard about during the meeting as possible types of data.\n",
    "\n",
    "TODO: LINK TO MEETING\n",
    "\n",
    "TODO: USE THE SAME MEETING AS THE LINKED MEETING\n",
    "\n",
    "### Agenda\n",
    "\n",
    "This is the plan for how the meeting should go. What to talk about, what to vote on, etc.\n",
    "\n",
    "### Legislative Documents\n",
    "\n",
    "This could be the bills being voted on, any amendments, etc.\n",
    "\n",
    "### Presentations and Reports\n",
    "\n",
    "Reports and presentations are often presented to councils. This can include budget presentations, community presentations, a report on internet access, etc.\n",
    "\n",
    "### Votes\n",
    "\n",
    "When a bill is voted on, the votes are recorded.\n",
    "\n",
    "### Minutes\n",
    "\n",
    "This is the document that is produced after a meeting to act as a summary of what happened. What was discussed, what was voted on, etc.\n",
    "\n",
    "### Meeting Video (and Audio)\n",
    "\n",
    "If the meeting was recorded and that recording made available, then this is also data. All other data points should hopefully be present or contextualized within this Video or Audio.\n",
    "\n",
    "### Transcript\n",
    "\n",
    "Sometimes provided by the council themselves, in the case of CDP, this transcript is generated for each meeting. Like the video (and audio) this should hopefully contain and contextualize all of the other data points."
   ]
  },
  {
   "cell_type": "markdown",
   "metadata": {},
   "source": [
    "## Text Data\n",
    "\n",
    "Of the examples above, the agenda, legislative documents, presentations and reports, minutes, and the transcript are each usually a text based file (PDF, Word Doc, a Transcript file format, etc.) All of these largely contain text and we can process that text to extract and analyze various patterns in the meetings.\n",
    "\n",
    "Before we can do that, we need to get access to those council meeting transcripts."
   ]
  },
  {
   "cell_type": "markdown",
   "metadata": {
    "tags": []
   },
   "source": [
    "## CDP Data\n",
    "\n",
    "Council Data Project created a library called `cdp_data` which allows Python users to access and optionally download all of their data.\n",
    "\n",
    "Let's start by pulling just a few days of meetings transcripts from the Seattle City Council.\n",
    "\n",
    "NOTE: THIS CREATES FILES ON YOUR MACHINE."
   ]
  },
  {
   "cell_type": "code",
   "execution_count": 8,
   "metadata": {
    "tags": []
   },
   "outputs": [
    {
     "data": {
      "application/vnd.jupyter.widget-view+json": {
       "model_id": "493b93ae47354c84806b910d2428493f",
       "version_major": 2,
       "version_minor": 0
      },
      "text/plain": [
       "Fetching each model attached to event_ref:   0%|          | 0/1 [00:00<?, ?it/s]"
      ]
     },
     "metadata": {},
     "output_type": "display_data"
    },
    {
     "data": {
      "application/vnd.jupyter.widget-view+json": {
       "model_id": "fb9af61503144d6aaf102588189cbf80",
       "version_major": 2,
       "version_minor": 0
      },
      "text/plain": [
       "Fetching transcripts:   0%|          | 0/1 [00:00<?, ?it/s]"
      ]
     },
     "metadata": {},
     "output_type": "display_data"
    },
    {
     "name": "stderr",
     "output_type": "stream",
     "text": [
      "Converting and storing each transcript as a CSV: 1it [00:01,  1.27s/it]\n"
     ]
    },
    {
     "data": {
      "text/plain": [
       "session_datetime                                  2023-02-06 22:00:00+00:00\n",
       "session_index                                                             0\n",
       "session_content_hash      90a971243f7ffba7aa29a6ddba812b19de0bdb3aba2859...\n",
       "video_uri                 https://video.seattle.gov/media/council/brief_...\n",
       "video_start_time                                                       None\n",
       "video_end_time                                                         None\n",
       "caption_uri               https://www.seattlechannel.org/documents/seatt...\n",
       "external_source_id                                                     None\n",
       "id                                                             2f8bd5a37370\n",
       "key                                                    session/2f8bd5a37370\n",
       "event                     <cdp_backend.database.models.Event object at 0...\n",
       "transcript                <cdp_backend.database.models.Transcript object...\n",
       "transcript_path           /home/eva/active/pit/ml-for-pit/content/cdp-da...\n",
       "transcript_as_csv_path    /home/eva/active/pit/ml-for-pit/content/cdp-da...\n",
       "Name: 0, dtype: object"
      ]
     },
     "execution_count": 8,
     "metadata": {},
     "output_type": "execute_result"
    }
   ],
   "source": [
    "from cdp_data import CDPInstances, datasets\n",
    "\n",
    "# Get a dataframe of council sessions for the Seattle City Council from Feb 6, 2023 to Feb 7, 2023\n",
    "# Store the transcript for later use\n",
    "sea_df = datasets.get_session_dataset(\n",
    "    CDPInstances.Seattle,\n",
    "    start_datetime=\"2023-02-06\",\n",
    "    end_datetime=\"2023-02-07\",\n",
    "    store_transcript=True,\n",
    "    store_transcript_as_csv=True\n",
    ")\n",
    "# Few the first (and only) session in this period\n",
    "sea_df.iloc[0]"
   ]
  },
  {
   "cell_type": "markdown",
   "metadata": {
    "tags": []
   },
   "source": [
    "### Available Data\n",
    "\n",
    "...\n",
    "\n",
    "#### `transcript_as_csv_path`\n",
    "\n",
    "The transcript for this event stored on your machine as a CSV."
   ]
  },
  {
   "cell_type": "code",
   "execution_count": 9,
   "metadata": {
    "tags": []
   },
   "outputs": [
    {
     "data": {
      "text/html": [
       "<div>\n",
       "<style scoped>\n",
       "    .dataframe tbody tr th:only-of-type {\n",
       "        vertical-align: middle;\n",
       "    }\n",
       "\n",
       "    .dataframe tbody tr th {\n",
       "        vertical-align: top;\n",
       "    }\n",
       "\n",
       "    .dataframe thead th {\n",
       "        text-align: right;\n",
       "    }\n",
       "</style>\n",
       "<table border=\"1\" class=\"dataframe\">\n",
       "  <thead>\n",
       "    <tr style=\"text-align: right;\">\n",
       "      <th></th>\n",
       "      <th>index</th>\n",
       "      <th>confidence</th>\n",
       "      <th>start_time</th>\n",
       "      <th>end_time</th>\n",
       "      <th>text</th>\n",
       "      <th>speaker_index</th>\n",
       "      <th>speaker_name</th>\n",
       "      <th>annotations</th>\n",
       "    </tr>\n",
       "  </thead>\n",
       "  <tbody>\n",
       "    <tr>\n",
       "      <th>0</th>\n",
       "      <td>0</td>\n",
       "      <td>0.72</td>\n",
       "      <td>0.000000</td>\n",
       "      <td>2.896050</td>\n",
       "      <td>≫ Good afternoon, everybody.</td>\n",
       "      <td>NaN</td>\n",
       "      <td>NaN</td>\n",
       "      <td>NaN</td>\n",
       "    </tr>\n",
       "    <tr>\n",
       "      <th>1</th>\n",
       "      <td>1</td>\n",
       "      <td>0.72</td>\n",
       "      <td>2.896050</td>\n",
       "      <td>6.516112</td>\n",
       "      <td>Today is Monday, February 6th.</td>\n",
       "      <td>NaN</td>\n",
       "      <td>NaN</td>\n",
       "      <td>NaN</td>\n",
       "    </tr>\n",
       "    <tr>\n",
       "      <th>2</th>\n",
       "      <td>2</td>\n",
       "      <td>0.72</td>\n",
       "      <td>6.516112</td>\n",
       "      <td>11.140192</td>\n",
       "      <td>This is the Seattle City Council briefing.</td>\n",
       "      <td>NaN</td>\n",
       "      <td>NaN</td>\n",
       "      <td>NaN</td>\n",
       "    </tr>\n",
       "    <tr>\n",
       "      <th>3</th>\n",
       "      <td>3</td>\n",
       "      <td>0.72</td>\n",
       "      <td>11.140192</td>\n",
       "      <td>13.100225</td>\n",
       "      <td>I will now call it to order.</td>\n",
       "      <td>NaN</td>\n",
       "      <td>NaN</td>\n",
       "      <td>NaN</td>\n",
       "    </tr>\n",
       "    <tr>\n",
       "      <th>4</th>\n",
       "      <td>4</td>\n",
       "      <td>0.72</td>\n",
       "      <td>13.100225</td>\n",
       "      <td>13.940240</td>\n",
       "      <td>It is 2-0-1.</td>\n",
       "      <td>NaN</td>\n",
       "      <td>NaN</td>\n",
       "      <td>NaN</td>\n",
       "    </tr>\n",
       "    <tr>\n",
       "      <th>...</th>\n",
       "      <td>...</td>\n",
       "      <td>...</td>\n",
       "      <td>...</td>\n",
       "      <td>...</td>\n",
       "      <td>...</td>\n",
       "      <td>...</td>\n",
       "      <td>...</td>\n",
       "      <td>...</td>\n",
       "    </tr>\n",
       "    <tr>\n",
       "      <th>778</th>\n",
       "      <td>778</td>\n",
       "      <td>0.72</td>\n",
       "      <td>5834.840435</td>\n",
       "      <td>5839.960523</td>\n",
       "      <td>At the conclusion of the executive session, th...</td>\n",
       "      <td>NaN</td>\n",
       "      <td>NaN</td>\n",
       "      <td>NaN</td>\n",
       "    </tr>\n",
       "    <tr>\n",
       "      <th>779</th>\n",
       "      <td>779</td>\n",
       "      <td>0.72</td>\n",
       "      <td>5839.960523</td>\n",
       "      <td>5845.160613</td>\n",
       "      <td>The next regularly scheduled council briefing ...</td>\n",
       "      <td>NaN</td>\n",
       "      <td>NaN</td>\n",
       "      <td>NaN</td>\n",
       "    </tr>\n",
       "    <tr>\n",
       "      <th>780</th>\n",
       "      <td>780</td>\n",
       "      <td>0.72</td>\n",
       "      <td>5845.160613</td>\n",
       "      <td>5866.938766</td>\n",
       "      <td>The council is now in executive session.</td>\n",
       "      <td>NaN</td>\n",
       "      <td>NaN</td>\n",
       "      <td>NaN</td>\n",
       "    </tr>\n",
       "    <tr>\n",
       "      <th>781</th>\n",
       "      <td>781</td>\n",
       "      <td>0.72</td>\n",
       "      <td>5866.938766</td>\n",
       "      <td>5873.161095</td>\n",
       "      <td>Thank you.</td>\n",
       "      <td>NaN</td>\n",
       "      <td>NaN</td>\n",
       "      <td>NaN</td>\n",
       "    </tr>\n",
       "    <tr>\n",
       "      <th>782</th>\n",
       "      <td>782</td>\n",
       "      <td>0.72</td>\n",
       "      <td>5875.161129</td>\n",
       "      <td>5885.801312</td>\n",
       "      <td>Thank you.</td>\n",
       "      <td>NaN</td>\n",
       "      <td>NaN</td>\n",
       "      <td>NaN</td>\n",
       "    </tr>\n",
       "  </tbody>\n",
       "</table>\n",
       "<p>783 rows × 8 columns</p>\n",
       "</div>"
      ],
      "text/plain": [
       "     index  confidence   start_time     end_time  \\\n",
       "0        0        0.72     0.000000     2.896050   \n",
       "1        1        0.72     2.896050     6.516112   \n",
       "2        2        0.72     6.516112    11.140192   \n",
       "3        3        0.72    11.140192    13.100225   \n",
       "4        4        0.72    13.100225    13.940240   \n",
       "..     ...         ...          ...          ...   \n",
       "778    778        0.72  5834.840435  5839.960523   \n",
       "779    779        0.72  5839.960523  5845.160613   \n",
       "780    780        0.72  5845.160613  5866.938766   \n",
       "781    781        0.72  5866.938766  5873.161095   \n",
       "782    782        0.72  5875.161129  5885.801312   \n",
       "\n",
       "                                                  text  speaker_index  \\\n",
       "0                         ≫ Good afternoon, everybody.            NaN   \n",
       "1                       Today is Monday, February 6th.            NaN   \n",
       "2           This is the Seattle City Council briefing.            NaN   \n",
       "3                         I will now call it to order.            NaN   \n",
       "4                                         It is 2-0-1.            NaN   \n",
       "..                                                 ...            ...   \n",
       "778  At the conclusion of the executive session, th...            NaN   \n",
       "779  The next regularly scheduled council briefing ...            NaN   \n",
       "780           The council is now in executive session.            NaN   \n",
       "781                                         Thank you.            NaN   \n",
       "782                                         Thank you.            NaN   \n",
       "\n",
       "     speaker_name  annotations  \n",
       "0             NaN          NaN  \n",
       "1             NaN          NaN  \n",
       "2             NaN          NaN  \n",
       "3             NaN          NaN  \n",
       "4             NaN          NaN  \n",
       "..            ...          ...  \n",
       "778           NaN          NaN  \n",
       "779           NaN          NaN  \n",
       "780           NaN          NaN  \n",
       "781           NaN          NaN  \n",
       "782           NaN          NaN  \n",
       "\n",
       "[783 rows x 8 columns]"
      ]
     },
     "execution_count": 9,
     "metadata": {},
     "output_type": "execute_result"
    }
   ],
   "source": [
    "import pandas as pd\n",
    "\n",
    "sea_session = pd.read_csv(sea_df.iloc[0].transcript_as_csv_path)\n",
    "sea_session"
   ]
  },
  {
   "cell_type": "markdown",
   "metadata": {},
   "source": [
    "#### Transcript Model\n",
    "\n",
    "##### `start_time`\n",
    "\n",
    "The start time in seconds of the sentence\n",
    "\n",
    "##### `end_time`\n",
    "\n",
    "The end time in seconds of the sentence\n",
    "\n",
    "##### `text`\n",
    "\n",
    "The text of the sentence\n",
    "\n",
    "We can look at a sample of these."
   ]
  },
  {
   "cell_type": "code",
   "execution_count": 17,
   "metadata": {
    "tags": []
   },
   "outputs": [
    {
     "name": "stdout",
     "output_type": "stream",
     "text": [
      "4329.4 - 4341.5 :: 'And just as a reminder, the larger tree ordinance is going to be heard in March, and the last, the second meeting in February of the Land Use Committee will be on February 22nd.'\n",
      "4341.5 - 4355.0 :: 'I believe that we'll be having a student, a former student now with Makers Architecture, who did a project last year regarding non-conforming uses in our city.'\n",
      "4355.0 - 4359.0 :: 'So we're very excited to have that, very excited to have Marcus.'\n",
      "4359.0 - 4361.1 :: 'Thank you, colleagues, that is my report.'\n",
      "4361.1 - 4363.1 :: 'Do you have any questions at this time?'\n"
     ]
    }
   ],
   "source": [
    "for _, row in sea_session[572:577].iterrows():\n",
    "    print(f\"{round(row.start_time, 1)} - {round(row.end_time, 1)} :: '{row.text}'\")"
   ]
  },
  {
   "cell_type": "markdown",
   "metadata": {},
   "source": [
    "### More Councils\n",
    "\n",
    "Because CDP supports many different legislative councils. You can get this same data, for many others."
   ]
  },
  {
   "cell_type": "code",
   "execution_count": 27,
   "metadata": {
    "tags": []
   },
   "outputs": [
    {
     "data": {
      "application/vnd.jupyter.widget-view+json": {
       "model_id": "438cfbd0927f496da894019b4e521a59",
       "version_major": 2,
       "version_minor": 0
      },
      "text/plain": [
       "Fetching each model attached to event_ref:   0%|          | 0/1 [00:00<?, ?it/s]"
      ]
     },
     "metadata": {},
     "output_type": "display_data"
    },
    {
     "data": {
      "application/vnd.jupyter.widget-view+json": {
       "model_id": "7efbcb890f224ac9a09b8287d3391f47",
       "version_major": 2,
       "version_minor": 0
      },
      "text/plain": [
       "Fetching transcripts:   0%|          | 0/1 [00:00<?, ?it/s]"
      ]
     },
     "metadata": {},
     "output_type": "display_data"
    },
    {
     "name": "stderr",
     "output_type": "stream",
     "text": [
      "Converting and storing each transcript as a CSV: 1it [00:01,  1.62s/it]"
     ]
    },
    {
     "name": "stdout",
     "output_type": "stream",
     "text": [
      "3649.1 - 3658.1 :: 'Another thing is to consider a way to give, um, the AOP regulations priority over some of the other programs that interface.'\n",
      "3658.1 - 3670.2 :: 'So, for example, we... to keep the rents very low, in our... in our 30-unit portfolio, 76% of our renters are below 50% of the AMI.'\n",
      "3670.2 - 3683.2 :: 'And we were really fortunate to be able to get the city... the new city voucher program, project-based vouchers, that helps us be able to rent to people, in some cases with zero income or close to zero income.'\n",
      "3683.2 - 3685.2 :: 'And that's an amazing value.'\n",
      "3685.2 - 3693.2 :: 'But sometimes the requirements are different or at odds with each other, so I would recommend a close look at that.'\n"
     ]
    },
    {
     "name": "stderr",
     "output_type": "stream",
     "text": [
      "\n"
     ]
    }
   ],
   "source": [
    "from cdp_data import CDPInstances, datasets\n",
    "\n",
    "# Get a dataframe of council sessions for the Seattle City Council from Feb 6, 2023 to Feb 7, 2023\n",
    "# Store the transcript for later use\n",
    "bos_df = datasets.get_session_dataset(\n",
    "    CDPInstances.Boston,\n",
    "    start_datetime=\"2023-02-09\",\n",
    "    end_datetime=\"2023-02-10\",\n",
    "    store_transcript=True,\n",
    "    store_transcript_as_csv=True\n",
    ")\n",
    "bos_session = pd.read_csv(bos_df.iloc[0].transcript_as_csv_path)\n",
    "for _, row in bos_session[123:128].iterrows():\n",
    "    print(f\"{round(row.start_time, 1)} - {round(row.end_time, 1)} :: '{row.text}'\")"
   ]
  },
  {
   "cell_type": "markdown",
   "metadata": {},
   "source": [
    "#### Available Councils"
   ]
  },
  {
   "cell_type": "code",
   "execution_count": 30,
   "metadata": {
    "tags": []
   },
   "outputs": [
    {
     "data": {
      "text/plain": [
       "['Alameda',\n",
       " 'Albuquerque',\n",
       " 'Atlanta',\n",
       " 'Boston',\n",
       " 'Charlotte',\n",
       " 'Denver',\n",
       " 'KingCounty',\n",
       " 'LongBeach',\n",
       " 'Louisville',\n",
       " 'Milwaukee',\n",
       " 'Missoula',\n",
       " 'MountainView',\n",
       " 'Oakland',\n",
       " 'Portland',\n",
       " 'Richmond',\n",
       " 'SanJose',\n",
       " 'Seattle']"
      ]
     },
     "execution_count": 30,
     "metadata": {},
     "output_type": "execute_result"
    }
   ],
   "source": [
    "[attr for attr in dir(CDPInstances) if \"__\" not in attr]"
   ]
  }
 ],
 "metadata": {
  "kernelspec": {
   "display_name": "Python 3 (ipykernel)",
   "language": "python",
   "name": "python3"
  },
  "language_info": {
   "codemirror_mode": {
    "name": "ipython",
    "version": 3
   },
   "file_extension": ".py",
   "mimetype": "text/x-python",
   "name": "python",
   "nbconvert_exporter": "python",
   "pygments_lexer": "ipython3",
   "version": "3.11.0"
  },
  "vscode": {
   "interpreter": {
    "hash": "58cd6e08b9735120d5b4eff7d74c8f325757ca8d93d795a23730f4ff64520fa2"
   }
  }
 },
 "nbformat": 4,
 "nbformat_minor": 4
}
