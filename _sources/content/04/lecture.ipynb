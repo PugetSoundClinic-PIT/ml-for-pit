{
 "cells": [
  {
   "cell_type": "markdown",
   "id": "ba2a831d-2148-460f-b1ba-7d3e3bf26b47",
   "metadata": {},
   "source": [
    "# Lecture 4 -- Semantic Embeddings"
   ]
  },
  {
   "cell_type": "markdown",
   "id": "5da0a157-0d4c-49ea-a800-133fabb22568",
   "metadata": {},
   "source": [
    "## Problems with Ngram Counts\n",
    "\n",
    "* Considering you need to store a count for every single unique ngram in the text this is a lot of unique items to store, even if you consider stemming, typo-correction, lowercases, etc. As the diversity of your corpus increases, the size of your dataset additionally grows to account for the diversity in word usage\n",
    "* Any sort of models or plotting we build with ngram counts tend to not generalize to new data too well. there is always exceptions to the rule but think about how language and slang change over time or by area. If we only created our dataset from Seattle discussion in 2019 and tried to apply some downstream model or analysis to Houston in 2023, we might have problems\n",
    "\n",
    "* THAT SAID, we shouldn't discount them fully. They are _specific_, if we are tracking an ngram, it means that ngram is guarenteed to have been in the corpus and we can find specific references to it"
   ]
  },
  {
   "cell_type": "markdown",
   "id": "4c7ad7cf-3e6d-48c9-8ea0-95f2de59a61d",
   "metadata": {},
   "source": [
    "## Semantic Embeddings\n",
    "\n",
    "* Instead of counting words or ngrams, the state-of-the-art is to create dense embeddings from text\n",
    "\n",
    "* the basic idea is that \"you shall know a word by the company it keeps\"\n",
    "  * https://cmdowney88.github.io/teaching/uw_574/slides/3_WV_GD.pdf\n",
    "\n",
    "* the foundational paper for this idea was word2vec here:\n",
    "  * If embeddings aren't familar to you, we recommend reading the following \"illustrated version\" of word2vec: https://jalammar.github.io/illustrated-word2vec/\n",
    "\n",
    "* Tempted to add the XKCD fruit plot here too"
   ]
  },
  {
   "cell_type": "markdown",
   "id": "fa3a9c48-f9a4-4770-8e08-7c03a4d18f8e",
   "metadata": {},
   "source": [
    "## Sentence Transformers\n",
    "\n",
    "* word2vec was one of the first papers and methods to be able to \"create a vector given a word\"\n",
    "* modern methods however have scaled this up a lot and its now very common to create semantic vectors for large portions of text\n",
    "\n",
    "* and this is so common that there is good tooling for extracting these embeddings from text\n",
    "* `SentenceTransformers` is specifically built to do so\n",
    "\n",
    "* Let's give sentence transformers a quick try on some example text"
   ]
  },
  {
   "cell_type": "code",
   "execution_count": 5,
   "id": "621be309-ac0f-471e-b4cb-105eb9abd2b6",
   "metadata": {},
   "outputs": [
    {
     "data": {
      "text/plain": [
       "array([ 2.50484832e-02, -1.92009285e-02, -4.78805862e-02,  6.51347160e-04,\n",
       "        2.09571924e-02, -5.28855901e-03, -4.59072366e-02,  6.91789994e-03,\n",
       "        3.56921926e-02, -3.05959675e-02, -4.23887298e-02, -3.55551578e-02,\n",
       "       -5.04362620e-02, -7.47670755e-02,  2.30247714e-02, -6.62243962e-02,\n",
       "        2.64527053e-02, -4.07546572e-03, -5.93089014e-02, -8.80574286e-02,\n",
       "        2.73587238e-02, -7.05565438e-02,  1.83358975e-02,  5.94620453e-03,\n",
       "        2.17716098e-02, -1.45498561e-02,  5.73872589e-02,  5.97409578e-03,\n",
       "       -7.05154939e-03,  4.92351055e-02,  7.57808518e-03, -3.72921191e-02,\n",
       "        1.92622747e-02,  1.67219378e-02, -8.19609407e-03,  1.22744981e-02,\n",
       "        2.57517528e-02, -3.18145659e-03,  2.65956894e-02, -3.05894744e-02,\n",
       "        2.17175893e-02, -6.55367086e-03,  1.22397235e-02,  6.47381321e-02,\n",
       "       -4.17929562e-03, -1.11583276e-02, -2.03686692e-02, -6.04618676e-02,\n",
       "       -1.84716769e-02,  3.04517746e-02, -1.44924838e-02,  1.44567210e-04,\n",
       "        3.98083916e-03, -6.00108039e-03, -3.89079973e-02,  7.65968068e-03,\n",
       "        4.20701969e-03,  9.24203247e-02,  2.48772278e-02,  5.40749691e-02,\n",
       "       -2.02597901e-02, -4.17821333e-02, -2.42578145e-02, -5.16846515e-02,\n",
       "       -9.80978087e-03,  2.92652398e-02,  9.94438119e-03,  2.29174327e-02,\n",
       "        3.83274257e-02,  5.22200437e-03, -1.61314756e-02, -9.23411455e-03,\n",
       "       -9.25500784e-03,  4.09102291e-02, -1.39258453e-03,  2.76301801e-02,\n",
       "       -3.88459377e-02, -4.13300954e-02, -3.11479289e-02,  2.38107331e-02,\n",
       "        1.63765475e-02, -2.05577407e-02, -5.57619426e-03,  5.64757083e-03,\n",
       "        2.98935939e-02, -1.19910426e-02, -1.02266623e-02,  1.30237490e-02,\n",
       "       -1.40485484e-02,  3.06902993e-02, -2.77268756e-02,  2.78492179e-02,\n",
       "       -1.47599250e-03,  5.08569367e-02, -7.53445923e-03,  7.72396894e-03,\n",
       "        4.90379054e-03,  4.59876470e-02,  3.34732719e-02,  4.64422479e-02,\n",
       "        3.27387452e-02,  2.94157770e-02, -3.24813463e-02, -2.74444912e-02,\n",
       "        3.44509371e-02,  2.42971536e-02, -1.54302185e-02, -1.68405883e-02,\n",
       "       -2.56800582e-03,  4.15016599e-02,  3.79742347e-02,  6.76344186e-02,\n",
       "       -4.37081382e-02, -2.94552837e-02,  2.61660013e-02, -4.20123413e-02,\n",
       "       -5.46801388e-02, -4.06176634e-02,  2.73897611e-02, -2.74888414e-04,\n",
       "        3.41953672e-02, -3.91232707e-02, -5.22805937e-02, -9.52257309e-03,\n",
       "        1.09174929e-03, -7.01948553e-02,  3.91654111e-02,  3.44560109e-02,\n",
       "       -1.36250919e-02, -2.32335255e-02, -2.36906502e-02,  8.13873857e-03,\n",
       "       -3.11051309e-03, -2.33843646e-04,  3.29101905e-02,  6.19874615e-03,\n",
       "       -3.76050062e-02, -8.30197334e-03, -1.87429432e-02,  3.65568474e-02,\n",
       "        7.69743100e-02,  4.40116413e-02,  6.59739785e-03,  2.18171570e-02,\n",
       "        2.62852516e-02, -3.84150855e-02,  3.59528549e-02,  4.65759858e-02,\n",
       "       -2.47394927e-02, -9.93030053e-03, -1.32025285e-02,  2.85634659e-02,\n",
       "        9.47646424e-03, -4.67375889e-02, -2.27995515e-02,  2.68559381e-02,\n",
       "        4.60443869e-02,  5.37511136e-04,  6.21414073e-02, -4.96910140e-02,\n",
       "        5.92857972e-02, -4.86606080e-03,  5.53340986e-02,  1.66499186e-02,\n",
       "        4.21082303e-02,  8.88641272e-03, -5.26422635e-02, -4.44971137e-02,\n",
       "       -4.30688336e-02,  6.31649643e-02,  3.79489106e-03, -1.85343921e-02,\n",
       "       -9.30460915e-03, -3.96157838e-02,  1.62988827e-02,  4.00703773e-03,\n",
       "        3.35859768e-02, -8.42809211e-03,  2.92232470e-03, -1.84477102e-02,\n",
       "       -4.57154401e-02,  2.71159224e-03, -2.80596968e-02,  2.36899685e-02,\n",
       "        3.52700911e-02,  5.32212444e-02, -3.31683620e-03, -1.96901802e-02,\n",
       "        6.65284402e-04, -8.95745680e-03, -1.74860265e-02,  3.34263928e-02,\n",
       "        3.83035727e-02,  1.76619657e-03,  2.61160843e-02,  2.41520014e-02,\n",
       "        7.04608038e-02,  3.51105258e-02,  3.12785245e-02,  2.73527633e-02,\n",
       "        5.62171871e-03, -6.67542741e-02, -2.23911218e-02, -6.41011121e-03,\n",
       "       -6.75080344e-02, -3.21424194e-02, -4.13577855e-02,  2.49625798e-02,\n",
       "       -2.57172249e-02,  1.29292104e-02, -1.03501529e-02, -8.78974348e-02,\n",
       "       -4.43916628e-03,  4.53467183e-02,  4.82206568e-02,  2.16628462e-02,\n",
       "        5.50445728e-02, -3.41280885e-02,  4.74727452e-02,  1.12184789e-02,\n",
       "       -9.87502281e-03,  2.46597733e-03,  1.48125887e-02,  1.86984614e-02,\n",
       "       -8.18224996e-03,  5.07862903e-02, -1.72531065e-02, -1.40894977e-02,\n",
       "       -1.19808894e-02, -1.00046836e-01, -4.28771600e-02, -6.25390112e-02,\n",
       "       -3.31410170e-02, -4.45567183e-02, -1.69882271e-02,  7.94044435e-02,\n",
       "       -4.15061088e-03, -2.99263094e-02, -3.09033189e-02,  2.77224667e-02,\n",
       "        4.01433073e-02, -2.92375125e-02,  3.62724699e-02,  2.64597964e-02,\n",
       "        3.25007923e-03, -3.42400596e-02, -3.59067768e-02, -6.35219738e-02,\n",
       "        3.91845405e-02, -5.41956834e-02,  2.79237721e-02, -9.43432525e-02,\n",
       "       -3.63345593e-02,  4.12761830e-02, -6.41860580e-03,  4.87552769e-02,\n",
       "       -1.79888140e-02,  1.48403384e-02,  4.39332388e-02,  9.44800749e-02,\n",
       "        9.44608729e-03, -7.62827098e-02, -3.80015671e-02,  2.57654674e-03,\n",
       "        1.14176758e-02, -8.04205835e-02, -3.69566754e-02, -1.11712860e-02,\n",
       "       -4.39267829e-02, -3.60611230e-02, -3.73308323e-02,  1.71460130e-03,\n",
       "        5.09309173e-02, -2.58498099e-02,  3.41027528e-02,  4.16869149e-02,\n",
       "       -6.17274344e-02, -2.41216235e-02, -3.94558273e-02,  2.07210481e-02,\n",
       "       -4.97745641e-04, -2.46724784e-02, -6.90121874e-02, -5.65936081e-02,\n",
       "       -1.87169854e-02,  2.68746670e-02, -3.01878676e-02, -6.30999431e-02,\n",
       "        4.27140631e-02, -1.13974316e-02, -1.35670202e-02, -1.45974187e-02,\n",
       "        1.76979564e-02, -1.36998331e-03, -6.81701861e-03,  6.94580190e-03,\n",
       "        1.75848845e-02, -1.50271831e-02,  5.20167872e-03,  2.80574579e-02,\n",
       "       -2.45644455e-03,  2.50422340e-02,  1.14245704e-04, -3.68552878e-02,\n",
       "        2.05822233e-02, -1.86838061e-02,  2.47737132e-02,  1.37568284e-02,\n",
       "       -3.29974443e-02,  2.26630867e-02, -5.82548231e-02,  1.58805046e-02,\n",
       "        6.34226017e-03,  8.94537661e-03, -2.18949877e-02,  1.71451345e-02,\n",
       "       -4.60292548e-02, -4.49647378e-05,  1.77823156e-02,  2.74739265e-02,\n",
       "       -2.45331153e-02,  7.87223317e-03,  2.87665725e-02, -5.53486459e-02,\n",
       "       -4.35720831e-02, -3.09635914e-04, -2.59695649e-02,  1.30200237e-02,\n",
       "        1.55909806e-02, -6.17080741e-02,  8.06962550e-02, -4.16627303e-02,\n",
       "        1.43216569e-02, -2.52671685e-04,  3.21104825e-02,  1.30950185e-02,\n",
       "       -7.40792155e-02, -2.25808509e-02,  3.68705392e-02, -3.86052355e-02,\n",
       "       -7.30627566e-04,  2.00214610e-02,  1.15037756e-02, -4.82800417e-03,\n",
       "       -5.08586168e-02,  4.17182781e-03,  2.25461498e-02, -5.70622552e-03,\n",
       "        2.52548009e-02,  9.09896567e-03, -7.05953836e-02,  3.43322679e-02,\n",
       "       -2.18981709e-02, -5.87652922e-02, -1.52344424e-02,  1.24204028e-02,\n",
       "        2.87969317e-02, -1.08958539e-02, -4.00593616e-02, -3.04151755e-02,\n",
       "       -1.05013568e-02,  1.25485472e-02,  7.78584974e-03,  5.12685850e-02,\n",
       "       -1.94384474e-02, -6.35861978e-02, -2.78948955e-02, -6.23875298e-03,\n",
       "       -4.07362580e-02,  5.12629151e-02, -2.42928881e-02,  2.02740580e-02,\n",
       "        7.17898924e-03,  4.05762866e-02,  1.97956264e-02,  3.58051285e-02,\n",
       "       -2.19220575e-02,  1.09001873e-02,  7.47777475e-03, -8.99627618e-03,\n",
       "       -3.08302082e-02,  6.31878898e-03, -1.87346910e-03, -3.40269762e-03,\n",
       "       -1.93955787e-02,  3.19224037e-02,  3.75335254e-02, -3.43190879e-03,\n",
       "        7.85121247e-02,  6.50950968e-02,  1.08535588e-02,  2.76186224e-03,\n",
       "        1.04024429e-02,  1.66813787e-02, -1.99619383e-02, -3.37004266e-03,\n",
       "       -3.58043723e-02,  2.72712242e-02, -4.97179218e-02,  2.17894726e-02,\n",
       "       -3.59447338e-02,  1.39294853e-02, -3.58639918e-02,  1.07455533e-02,\n",
       "        3.46479863e-02, -1.92131288e-02,  5.96120320e-02, -1.64660905e-02,\n",
       "        1.81987137e-02,  6.29354119e-02, -5.23806959e-02,  1.70011595e-02,\n",
       "        2.93433834e-02, -6.69617578e-02,  4.68426868e-02,  3.34241129e-02,\n",
       "       -1.00693414e-02,  1.00091703e-01, -3.89906242e-02,  5.39988168e-02,\n",
       "       -2.76693553e-02, -2.76970640e-02, -1.60701089e-02,  4.38827695e-03,\n",
       "        8.98449740e-04, -2.77064200e-02,  1.23892138e-02, -2.01886185e-02,\n",
       "        2.65704654e-02, -1.05281174e-02,  5.08168302e-02,  3.79949696e-02,\n",
       "        1.97630599e-02, -3.90082076e-02,  3.00368331e-02, -6.98942365e-03,\n",
       "        3.81093621e-02,  4.39946866e-03, -5.66115119e-02,  9.76581033e-03,\n",
       "        2.85797399e-02, -3.10527906e-02,  3.00019737e-02,  7.44356355e-03,\n",
       "       -2.46283337e-02,  2.77011283e-02,  1.39557412e-02, -2.42684279e-02,\n",
       "       -3.22314575e-02,  3.62387411e-02,  1.18285129e-02,  1.14607373e-02,\n",
       "       -4.53829356e-02, -3.55184227e-02,  5.73485084e-02,  1.89345051e-02,\n",
       "       -6.26722071e-03,  9.08172969e-03,  7.37867644e-03, -3.40500921e-02,\n",
       "       -6.40276000e-02,  3.03958599e-02, -6.65085986e-02, -1.20706148e-02,\n",
       "        7.58602694e-02,  3.37172039e-02,  2.57789250e-02, -3.34039927e-02,\n",
       "       -1.87430792e-02,  1.20088579e-02,  5.06608337e-02, -1.76850911e-02,\n",
       "        1.53286634e-02,  1.53834103e-02, -3.88182700e-02,  2.73153710e-05,\n",
       "        6.97391033e-02, -1.09629836e-02,  5.33348955e-02,  2.30795797e-02,\n",
       "        6.36792276e-03, -7.50861969e-03, -4.20077983e-03,  3.83036286e-02,\n",
       "       -2.39114221e-02, -5.35042351e-03, -1.67864710e-02, -1.63006056e-02,\n",
       "       -6.67975331e-03, -4.99640452e-03, -4.99291113e-04, -6.38607144e-02,\n",
       "        8.56708642e-03,  6.24315813e-02,  2.37044277e-33, -2.63751894e-02,\n",
       "        7.40000084e-02, -4.16397341e-02,  6.24299198e-02,  2.57937163e-02,\n",
       "        3.87415886e-02,  2.95591336e-02,  2.25993805e-02,  5.24388291e-02,\n",
       "       -2.11725906e-02,  7.97587913e-03,  4.02118638e-02, -1.16018858e-02,\n",
       "       -4.01834911e-03, -4.06731106e-02,  4.27894667e-02, -1.71684753e-02,\n",
       "       -5.55901276e-03,  1.59952585e-02,  8.66386341e-04, -5.96563034e-02,\n",
       "       -7.29262978e-02, -2.28699748e-04, -1.79626588e-02, -2.61685066e-03,\n",
       "       -5.00638708e-02,  1.81994517e-03, -2.39614211e-03, -2.52307858e-02,\n",
       "       -2.29882840e-02,  1.37867164e-02, -1.96967693e-03,  2.37354124e-03,\n",
       "       -2.50528082e-02, -2.43410226e-02,  6.94304332e-02,  5.40556721e-02,\n",
       "        1.22332154e-02,  1.94285205e-03,  8.35796595e-02,  1.92279089e-02,\n",
       "       -1.23128658e-02,  5.58423623e-02,  9.79150552e-03,  9.74757038e-03,\n",
       "       -4.55031358e-03,  8.78101960e-03, -3.35830078e-02, -2.82386988e-02,\n",
       "       -1.99784227e-02, -2.04891507e-02, -3.13807242e-02, -2.90488843e-02,\n",
       "       -5.25995716e-02, -4.38752118e-03,  4.31260951e-02,  1.98293887e-02,\n",
       "       -5.35165891e-03,  3.96953784e-02,  7.83338472e-02,  2.80704424e-02,\n",
       "       -2.74442360e-02, -7.39951152e-03, -6.76361844e-02,  7.80518875e-02,\n",
       "       -2.63397843e-02,  2.16071550e-02,  2.43287496e-02,  1.41804004e-02,\n",
       "       -1.10525917e-02, -3.60602215e-02,  3.72307673e-02, -1.29915942e-02,\n",
       "       -5.10701016e-02,  1.30293006e-02, -4.02231142e-03,  2.93416865e-02,\n",
       "       -3.29238176e-02,  2.52755340e-02,  5.52436896e-02,  1.56438584e-03,\n",
       "       -6.69419067e-03, -1.45940006e-01, -3.93135734e-02, -2.16259170e-04,\n",
       "        2.90083885e-02, -6.88480819e-03,  6.18537106e-02,  1.01659494e-03,\n",
       "        3.82413492e-02,  7.12492364e-03,  1.66962948e-02, -2.63979286e-03,\n",
       "        7.05558574e-04, -3.36563587e-03,  5.98690612e-03,  2.86870841e-02,\n",
       "        9.40368697e-02, -1.94726288e-02,  4.42577004e-02,  7.09379092e-02,\n",
       "        4.36353264e-03,  1.63088478e-02,  5.79811595e-02, -1.97248533e-02,\n",
       "       -2.92391032e-02,  1.67668902e-03, -2.40871590e-03,  1.51529247e-02,\n",
       "        1.74438430e-03,  5.23169115e-02, -1.52287232e-02, -1.95007809e-02,\n",
       "        2.99359802e-02, -5.36652394e-02,  3.81691791e-02, -6.33367375e-02,\n",
       "       -8.04813672e-03,  6.35286793e-02, -4.06975001e-02,  1.68947224e-02,\n",
       "        4.44767587e-02, -2.82465690e-03, -7.69471154e-02,  3.82160246e-02,\n",
       "       -2.85803471e-02, -1.25829810e-02,  7.15696532e-03, -3.41301262e-02,\n",
       "        8.39752406e-02, -5.59833460e-03,  1.00338189e-02, -5.84893823e-02,\n",
       "        1.50852669e-02, -2.52286764e-03, -2.87273321e-02,  1.63991097e-02,\n",
       "        1.34186763e-02, -7.26753520e-03, -8.68196264e-02, -6.93232892e-03,\n",
       "        2.60145515e-02, -1.71996467e-02,  2.31422018e-02,  1.78906303e-02,\n",
       "        6.52085198e-03,  2.27026772e-02, -4.99210320e-02,  4.73800162e-03,\n",
       "       -1.97513029e-02, -2.08104923e-02,  3.21251266e-02, -4.64719124e-02,\n",
       "        6.42616651e-04,  2.83427946e-02, -1.51694417e-02, -8.19933601e-03,\n",
       "        3.97740789e-02, -1.57111790e-02,  8.81836563e-02,  1.00444280e-01,\n",
       "       -1.40638217e-01,  1.68729220e-02,  1.21167852e-02,  5.55286445e-02,\n",
       "        9.95558873e-03,  5.31932600e-02,  8.58746916e-02,  2.87864748e-02,\n",
       "       -1.58783849e-02, -3.64640690e-02, -6.25503734e-02,  2.80716568e-02,\n",
       "        7.00408360e-03, -2.51085628e-02, -5.04177250e-02, -1.04548663e-01,\n",
       "       -3.53091173e-02, -9.60597675e-03, -2.08298452e-02, -3.09773777e-02,\n",
       "       -1.19465915e-03,  3.11241765e-03,  4.55025546e-02, -2.09009135e-03,\n",
       "       -2.43591350e-02,  1.39921969e-02,  1.06879473e-02,  5.02559766e-02,\n",
       "       -2.15510447e-02, -1.87055524e-02,  2.40673628e-02,  5.89811392e-02,\n",
       "       -6.04331940e-02,  2.85176858e-02, -2.68560406e-02, -2.61384621e-03,\n",
       "       -2.10084300e-02, -5.93098365e-02, -2.54589058e-02,  6.82052374e-02,\n",
       "       -4.79259230e-02, -1.16016138e-02, -7.89449811e-02,  7.91995972e-02,\n",
       "       -1.36568118e-02,  6.99212477e-02,  3.55432406e-02, -1.96464313e-03,\n",
       "        2.81914491e-02, -2.63276733e-02, -6.17611315e-03,  1.09873461e-02,\n",
       "       -3.40136490e-03,  7.72027858e-03,  1.27501041e-03,  2.85459813e-02,\n",
       "       -1.52701801e-02,  1.82736088e-02,  6.79198420e-03, -4.68226075e-02,\n",
       "        9.86426026e-02, -1.86005253e-02, -2.10718978e-02,  2.63389088e-02,\n",
       "       -1.50168920e-03, -1.25269331e-02,  2.14841440e-02, -5.51953679e-03,\n",
       "       -2.17863042e-02, -1.30831851e-02,  1.23884715e-02, -2.91419476e-02,\n",
       "        3.88012715e-02,  6.61679357e-03,  3.20237991e-03, -8.12704617e-04,\n",
       "        2.26889756e-02, -1.76452659e-02,  5.03175780e-02, -4.19906899e-02,\n",
       "       -2.09849924e-02,  3.25345732e-02, -1.24466221e-03, -2.76580639e-02,\n",
       "       -4.48784083e-02,  2.05978695e-02, -5.22937104e-02,  1.28943501e-02,\n",
       "        1.93850547e-02,  3.88283692e-02,  1.72032248e-02,  1.38806095e-02,\n",
       "        7.72256171e-03, -4.67515104e-02, -3.31278592e-02, -1.98558141e-02,\n",
       "        4.88179773e-02, -3.61095183e-02,  2.01125965e-02,  5.58797829e-03,\n",
       "       -2.05687899e-02, -1.43552357e-02, -3.67245637e-02, -2.98149996e-02,\n",
       "       -2.68929247e-02, -3.87511663e-02, -5.58993556e-02,  4.79316013e-03,\n",
       "        1.28989384e-01,  2.72308383e-02, -5.99329285e-02,  2.73887664e-02],\n",
       "      dtype=float32)"
      ]
     },
     "execution_count": 5,
     "metadata": {},
     "output_type": "execute_result"
    }
   ],
   "source": [
    "from sentence_transformers import SentenceTransformer\n",
    "\n",
    "# Load the model\n",
    "model = SentenceTransformer(\"all-distilroberta-v1\")\n",
    "\n",
    "# Get the semantic embedding for a piece of text\n",
    "embedding_1 = model.encode(\"I want to thank UAW4121 for the help in crafting this legislation.\")\n",
    "embedding_1"
   ]
  },
  {
   "cell_type": "markdown",
   "id": "cef36353-a047-460b-97bf-dca6f74761b3",
   "metadata": {},
   "source": [
    "* embeddings are large dimension vectors!"
   ]
  },
  {
   "cell_type": "code",
   "execution_count": 4,
   "id": "95744b7b-6232-4caf-84b9-5960307d12eb",
   "metadata": {},
   "outputs": [
    {
     "data": {
      "text/plain": [
       "(768,)"
      ]
     },
     "execution_count": 4,
     "metadata": {},
     "output_type": "execute_result"
    }
   ],
   "source": [
    "embedding_1.shape"
   ]
  },
  {
   "cell_type": "markdown",
   "id": "7217ac69-2250-449f-9ecb-ee687418608d",
   "metadata": {},
   "source": [
    "* we can't say for sure what each of these 768 dimensions encode for but we can hopefully show that these embedding vectors include enough information to show how similar two pieces of text are\n",
    "\n",
    "* to do so, let's embed another piece of text that is similar to original one, but may have different words."
   ]
  },
  {
   "cell_type": "code",
   "execution_count": 15,
   "id": "4cfd0b6c-3dcc-4b0f-9f81-a64de6eb54c6",
   "metadata": {},
   "outputs": [
    {
     "data": {
      "text/plain": [
       "(768,)"
      ]
     },
     "execution_count": 15,
     "metadata": {},
     "output_type": "execute_result"
    }
   ],
   "source": [
    "embedding_2 = model.encode(\"I want to recognize the hard work put in by the Transit Riders Union in assisting in crafting this bill.\")\n",
    "embedding_2.shape"
   ]
  },
  {
   "cell_type": "code",
   "execution_count": 16,
   "id": "62f3c446-2544-490b-86a3-6770ae1b3497",
   "metadata": {},
   "outputs": [
    {
     "data": {
      "text/plain": [
       "0.6145123243331909"
      ]
     },
     "execution_count": 16,
     "metadata": {},
     "output_type": "execute_result"
    }
   ],
   "source": [
    "from sentence_transformers.util import cos_sim\n",
    "\n",
    "cos_sim(embedding_1, embedding_2).item()"
   ]
  },
  {
   "cell_type": "markdown",
   "id": "f936f225-7e54-4f76-aff4-ca4fc431abf7",
   "metadata": {},
   "source": [
    "* This number may not make a lot of sense right now so for comparison, let's try to write a sentence that is very different from the other two and see how similar it is to the other via the embedding"
   ]
  },
  {
   "cell_type": "code",
   "execution_count": 17,
   "id": "2620d96d-5304-4895-ae89-9be3b22dc319",
   "metadata": {},
   "outputs": [
    {
     "data": {
      "text/plain": [
       "(0.1019233763217926, 0.15606224536895752)"
      ]
     },
     "execution_count": 17,
     "metadata": {},
     "output_type": "execute_result"
    }
   ],
   "source": [
    "embedding_3 = model.encode(\"The council is terrible and should be ashamed.\")\n",
    "\n",
    "cos_sim(embedding_1, embedding_3).item(), cos_sim(embedding_2, embedding_3).item()"
   ]
  },
  {
   "cell_type": "markdown",
   "id": "e11a2c68-898c-4012-b6f1-0f4e26efd823",
   "metadata": {},
   "source": [
    "* TODO: decide to keep this or not"
   ]
  },
  {
   "cell_type": "code",
   "execution_count": 64,
   "id": "d321e9dc-8f28-4f04-bdb6-234a12220a48",
   "metadata": {},
   "outputs": [
    {
     "data": {
      "text/plain": [
       "<Axes: >"
      ]
     },
     "execution_count": 64,
     "metadata": {},
     "output_type": "execute_result"
    },
    {
     "data": {
      "image/png": "[encoded data removed]",
      "text/plain": [
       "<Figure size 640x480 with 2 Axes>"
      ]
     },
     "metadata": {},
     "output_type": "display_data"
    }
   ],
   "source": [
    "import seaborn as sns\n",
    "import numpy as np\n",
    "\n",
    "sim_corpus = []\n",
    "for embedding_i in [embedding_1, embedding_2, embedding_3]:\n",
    "    row = []\n",
    "    for embedding_j in [embedding_1, embedding_2, embedding_3]:\n",
    "        row.append(cos_sim(embedding_i, embedding_j).item())\n",
    "    sim_corpus.append(np.stack(row))\n",
    "\n",
    "sns.heatmap(data=sim_corpus, annot=True)"
   ]
  },
  {
   "cell_type": "markdown",
   "id": "6809e837-455f-4d77-9bc0-a1b611e14415",
   "metadata": {},
   "source": [
    "* when we look at the similarity between embedding 1 or embedding 2 and embedding 3, we notice the \"similarity\" is much lower.\n",
    "\n",
    "* the sentences we wrote that we intended to be similar had a cosine similarity of 0.615. And when comparing the sentence that we wrote to try to be different from the other two both were less than 0.156.\n",
    "\n",
    "* if I was to label the first two examples I might say that the first two were about \"thankfullness\", \"recognition\", \"legislation\", \"assistance\", etc. the third example was really just \"angry\"\n",
    "\n",
    "* And this makes sense, cosine similarity is a metric calcuated between two vectors and results in a value between 0 and 1, with 0 being the exact opposite and 1 being the exact same."
   ]
  },
  {
   "cell_type": "markdown",
   "id": "65cc686e-dd57-485d-b7b7-a4a667819548",
   "metadata": {},
   "source": [
    "## Semantic Search\n",
    "\n",
    "* while \"keyword search\" using ngrams is specific, semantic search relies on the similarity of your query and each document in the corpus\n",
    "\n",
    "* for example, lets create a fake corpus from possible statements from a council meeting"
   ]
  },
  {
   "cell_type": "code",
   "execution_count": 35,
   "id": "9682e106-3c6a-456b-a86b-6db2055ee058",
   "metadata": {},
   "outputs": [
    {
     "data": {
      "text/html": [
       "<div>\n",
       "<style scoped>\n",
       "    .dataframe tbody tr th:only-of-type {\n",
       "        vertical-align: middle;\n",
       "    }\n",
       "\n",
       "    .dataframe tbody tr th {\n",
       "        vertical-align: top;\n",
       "    }\n",
       "\n",
       "    .dataframe thead th {\n",
       "        text-align: right;\n",
       "    }\n",
       "</style>\n",
       "<table border=\"1\" class=\"dataframe\">\n",
       "  <thead>\n",
       "    <tr style=\"text-align: right;\">\n",
       "      <th></th>\n",
       "      <th>text</th>\n",
       "    </tr>\n",
       "  </thead>\n",
       "  <tbody>\n",
       "    <tr>\n",
       "      <th>0</th>\n",
       "      <td>Hello my name is Eva and I support this bill</td>\n",
       "    </tr>\n",
       "    <tr>\n",
       "      <th>1</th>\n",
       "      <td>Hello my name is Eva and I do not support this...</td>\n",
       "    </tr>\n",
       "    <tr>\n",
       "      <th>2</th>\n",
       "      <td>We are not accepting public comments at this time</td>\n",
       "    </tr>\n",
       "    <tr>\n",
       "      <th>3</th>\n",
       "      <td>Welcome to the meeting of the Seattle City Cou...</td>\n",
       "    </tr>\n",
       "    <tr>\n",
       "      <th>4</th>\n",
       "      <td>We will have a presentation later on from the ...</td>\n",
       "    </tr>\n",
       "    <tr>\n",
       "      <th>5</th>\n",
       "      <td>I am sorry, could you please explain that slid...</td>\n",
       "    </tr>\n",
       "  </tbody>\n",
       "</table>\n",
       "</div>"
      ],
      "text/plain": [
       "                                                text\n",
       "0       Hello my name is Eva and I support this bill\n",
       "1  Hello my name is Eva and I do not support this...\n",
       "2  We are not accepting public comments at this time\n",
       "3  Welcome to the meeting of the Seattle City Cou...\n",
       "4  We will have a presentation later on from the ...\n",
       "5  I am sorry, could you please explain that slid..."
      ]
     },
     "execution_count": 35,
     "metadata": {},
     "output_type": "execute_result"
    }
   ],
   "source": [
    "import pandas as pd\n",
    "\n",
    "corpus = pd.DataFrame({\"text\": [\n",
    "    \"Hello my name is Eva and I support this bill\",\n",
    "    \"Hello my name is Eva and I do not support this bill\",\n",
    "    \"We are not accepting public comments at this time\",\n",
    "    \"Welcome to the meeting of the Seattle City Council Transportation Committee\",\n",
    "    \"We will have a presentation later on from the Seattle Department of Transportation\",\n",
    "    \"I am sorry, could you please explain that slide again\",\n",
    "]})\n",
    "corpus"
   ]
  },
  {
   "cell_type": "markdown",
   "id": "8bdd8a8a-5f3b-447b-a640-db7c766cc7bf",
   "metadata": {},
   "source": [
    "* next we can encode all of them to get embeddings"
   ]
  },
  {
   "cell_type": "code",
   "execution_count": 46,
   "id": "50f5a9a0-7618-4973-b0d3-077ed88c7d9b",
   "metadata": {},
   "outputs": [
    {
     "data": {
      "text/html": [
       "<div>\n",
       "<style scoped>\n",
       "    .dataframe tbody tr th:only-of-type {\n",
       "        vertical-align: middle;\n",
       "    }\n",
       "\n",
       "    .dataframe tbody tr th {\n",
       "        vertical-align: top;\n",
       "    }\n",
       "\n",
       "    .dataframe thead th {\n",
       "        text-align: right;\n",
       "    }\n",
       "</style>\n",
       "<table border=\"1\" class=\"dataframe\">\n",
       "  <thead>\n",
       "    <tr style=\"text-align: right;\">\n",
       "      <th></th>\n",
       "      <th>text</th>\n",
       "      <th>embedding</th>\n",
       "    </tr>\n",
       "  </thead>\n",
       "  <tbody>\n",
       "    <tr>\n",
       "      <th>0</th>\n",
       "      <td>Hello my name is Eva and I support this bill</td>\n",
       "      <td>[0.03396301, 0.04418882, -0.03652103, 0.000163...</td>\n",
       "    </tr>\n",
       "    <tr>\n",
       "      <th>1</th>\n",
       "      <td>Hello my name is Eva and I do not support this...</td>\n",
       "      <td>[0.030697862, 0.05065392, -0.034959856, -0.014...</td>\n",
       "    </tr>\n",
       "    <tr>\n",
       "      <th>2</th>\n",
       "      <td>We are not accepting public comments at this time</td>\n",
       "      <td>[0.010806136, -0.025713393, -0.00017451386, 0....</td>\n",
       "    </tr>\n",
       "    <tr>\n",
       "      <th>3</th>\n",
       "      <td>Welcome to the meeting of the Seattle City Cou...</td>\n",
       "      <td>[0.036297053, -0.010011774, -0.034358032, -0.0...</td>\n",
       "    </tr>\n",
       "    <tr>\n",
       "      <th>4</th>\n",
       "      <td>We will have a presentation later on from the ...</td>\n",
       "      <td>[0.00076063693, -0.016124507, -0.017413434, -0...</td>\n",
       "    </tr>\n",
       "    <tr>\n",
       "      <th>5</th>\n",
       "      <td>I am sorry, could you please explain that slid...</td>\n",
       "      <td>[-0.03183143, -0.04133318, 0.023597926, 0.0109...</td>\n",
       "    </tr>\n",
       "  </tbody>\n",
       "</table>\n",
       "</div>"
      ],
      "text/plain": [
       "                                                text  \\\n",
       "0       Hello my name is Eva and I support this bill   \n",
       "1  Hello my name is Eva and I do not support this...   \n",
       "2  We are not accepting public comments at this time   \n",
       "3  Welcome to the meeting of the Seattle City Cou...   \n",
       "4  We will have a presentation later on from the ...   \n",
       "5  I am sorry, could you please explain that slid...   \n",
       "\n",
       "                                           embedding  \n",
       "0  [0.03396301, 0.04418882, -0.03652103, 0.000163...  \n",
       "1  [0.030697862, 0.05065392, -0.034959856, -0.014...  \n",
       "2  [0.010806136, -0.025713393, -0.00017451386, 0....  \n",
       "3  [0.036297053, -0.010011774, -0.034358032, -0.0...  \n",
       "4  [0.00076063693, -0.016124507, -0.017413434, -0...  \n",
       "5  [-0.03183143, -0.04133318, 0.023597926, 0.0109...  "
      ]
     },
     "execution_count": 46,
     "metadata": {},
     "output_type": "execute_result"
    }
   ],
   "source": [
    "corpus[\"embedding\"] = list(model.encode(corpus.text))\n",
    "corpus"
   ]
  },
  {
   "cell_type": "code",
   "execution_count": 71,
   "id": "4c915421-06de-4fd7-95a2-e5ce784b589e",
   "metadata": {},
   "outputs": [
    {
     "data": {
      "text/html": [
       "<div>\n",
       "<style scoped>\n",
       "    .dataframe tbody tr th:only-of-type {\n",
       "        vertical-align: middle;\n",
       "    }\n",
       "\n",
       "    .dataframe tbody tr th {\n",
       "        vertical-align: top;\n",
       "    }\n",
       "\n",
       "    .dataframe thead th {\n",
       "        text-align: right;\n",
       "    }\n",
       "</style>\n",
       "<table border=\"1\" class=\"dataframe\">\n",
       "  <thead>\n",
       "    <tr style=\"text-align: right;\">\n",
       "      <th></th>\n",
       "      <th>text</th>\n",
       "      <th>embedding</th>\n",
       "      <th>similarity</th>\n",
       "    </tr>\n",
       "  </thead>\n",
       "  <tbody>\n",
       "    <tr>\n",
       "      <th>4</th>\n",
       "      <td>We will have a presentation later on from the ...</td>\n",
       "      <td>[0.00076063693, -0.016124507, -0.017413434, -0...</td>\n",
       "      <td>0.575698</td>\n",
       "    </tr>\n",
       "    <tr>\n",
       "      <th>3</th>\n",
       "      <td>Welcome to the meeting of the Seattle City Cou...</td>\n",
       "      <td>[0.036297053, -0.010011774, -0.034358032, -0.0...</td>\n",
       "      <td>0.425648</td>\n",
       "    </tr>\n",
       "    <tr>\n",
       "      <th>5</th>\n",
       "      <td>I am sorry, could you please explain that slid...</td>\n",
       "      <td>[-0.03183143, -0.04133318, 0.023597926, 0.0109...</td>\n",
       "      <td>0.272697</td>\n",
       "    </tr>\n",
       "    <tr>\n",
       "      <th>0</th>\n",
       "      <td>Hello my name is Eva and I support this bill</td>\n",
       "      <td>[0.03396301, 0.04418882, -0.03652103, 0.000163...</td>\n",
       "      <td>0.086764</td>\n",
       "    </tr>\n",
       "    <tr>\n",
       "      <th>1</th>\n",
       "      <td>Hello my name is Eva and I do not support this...</td>\n",
       "      <td>[0.030697862, 0.05065392, -0.034959856, -0.014...</td>\n",
       "      <td>0.071163</td>\n",
       "    </tr>\n",
       "    <tr>\n",
       "      <th>2</th>\n",
       "      <td>We are not accepting public comments at this time</td>\n",
       "      <td>[0.010806136, -0.025713393, -0.00017451386, 0....</td>\n",
       "      <td>0.070965</td>\n",
       "    </tr>\n",
       "  </tbody>\n",
       "</table>\n",
       "</div>"
      ],
      "text/plain": [
       "                                                text  \\\n",
       "4  We will have a presentation later on from the ...   \n",
       "3  Welcome to the meeting of the Seattle City Cou...   \n",
       "5  I am sorry, could you please explain that slid...   \n",
       "0       Hello my name is Eva and I support this bill   \n",
       "1  Hello my name is Eva and I do not support this...   \n",
       "2  We are not accepting public comments at this time   \n",
       "\n",
       "                                           embedding  similarity  \n",
       "4  [0.00076063693, -0.016124507, -0.017413434, -0...    0.575698  \n",
       "3  [0.036297053, -0.010011774, -0.034358032, -0.0...    0.425648  \n",
       "5  [-0.03183143, -0.04133318, 0.023597926, 0.0109...    0.272697  \n",
       "0  [0.03396301, 0.04418882, -0.03652103, 0.000163...    0.086764  \n",
       "1  [0.030697862, 0.05065392, -0.034959856, -0.014...    0.071163  \n",
       "2  [0.010806136, -0.025713393, -0.00017451386, 0....    0.070965  "
      ]
     },
     "execution_count": 71,
     "metadata": {},
     "output_type": "execute_result"
    }
   ],
   "source": [
    "query_embedding = model.encode(\"transportation presentation\")\n",
    "\n",
    "corpus[\"similarity\"] = corpus.embedding.apply(lambda stored_embed: cos_sim(query_embedding, stored_embed).item())\n",
    "corpus.sort_values(by=\"similarity\", ascending=False)"
   ]
  },
  {
   "cell_type": "markdown",
   "id": "68eafaa7-1af8-45ac-a455-9f0e2deae656",
   "metadata": {},
   "source": [
    "* we can see that even though none of the sentences contain the specific words \"transportation presentation\" the three sentences about having a presentation from the transporation department, welcoming the audience to the transportation committee, and finally asking for clarification on a slide, are all the top three most similar sentences\n",
    "\n",
    "* keyword matches are great and are needed for specificity but semantic embeddings and cosine similarity enable generalized search"
   ]
  },
  {
   "cell_type": "markdown",
   "id": "794ef0cd-3e7d-4a57-93b1-c3d55e0da2f3",
   "metadata": {},
   "source": [
    "## Semantic Neighborhoods\n",
    "\n",
    "* Remember the XKCD plot of fruits? we can try to do something similar with two dimensions at a time"
   ]
  },
  {
   "cell_type": "code",
   "execution_count": 80,
   "id": "414608e4-1550-4bb7-aff8-8951c86c1858",
   "metadata": {},
   "outputs": [
    {
     "data": {
      "text/html": [
       "<div>\n",
       "<style scoped>\n",
       "    .dataframe tbody tr th:only-of-type {\n",
       "        vertical-align: middle;\n",
       "    }\n",
       "\n",
       "    .dataframe tbody tr th {\n",
       "        vertical-align: top;\n",
       "    }\n",
       "\n",
       "    .dataframe thead th {\n",
       "        text-align: right;\n",
       "    }\n",
       "</style>\n",
       "<table border=\"1\" class=\"dataframe\">\n",
       "  <thead>\n",
       "    <tr style=\"text-align: right;\">\n",
       "      <th></th>\n",
       "      <th>level_0</th>\n",
       "      <th>index</th>\n",
       "      <th>text</th>\n",
       "      <th>embedding</th>\n",
       "      <th>similarity</th>\n",
       "      <th>embedding_dim_0</th>\n",
       "      <th>embedding_dim_1</th>\n",
       "      <th>embedding_dim_2</th>\n",
       "      <th>embedding_dim_3</th>\n",
       "      <th>embedding_dim_4</th>\n",
       "      <th>...</th>\n",
       "      <th>embedding_dim_758</th>\n",
       "      <th>embedding_dim_759</th>\n",
       "      <th>embedding_dim_760</th>\n",
       "      <th>embedding_dim_761</th>\n",
       "      <th>embedding_dim_762</th>\n",
       "      <th>embedding_dim_763</th>\n",
       "      <th>embedding_dim_764</th>\n",
       "      <th>embedding_dim_765</th>\n",
       "      <th>embedding_dim_766</th>\n",
       "      <th>embedding_dim_767</th>\n",
       "    </tr>\n",
       "  </thead>\n",
       "  <tbody>\n",
       "    <tr>\n",
       "      <th>0</th>\n",
       "      <td>0</td>\n",
       "      <td>0</td>\n",
       "      <td>Hello my name is Eva and I support this bill</td>\n",
       "      <td>[0.03396301, 0.04418882, -0.03652103, 0.000163...</td>\n",
       "      <td>0.086764</td>\n",
       "      <td>0.033963</td>\n",
       "      <td>0.044189</td>\n",
       "      <td>-0.036521</td>\n",
       "      <td>0.000163</td>\n",
       "      <td>-0.022653</td>\n",
       "      <td>...</td>\n",
       "      <td>-0.005820</td>\n",
       "      <td>-0.046426</td>\n",
       "      <td>-0.019358</td>\n",
       "      <td>0.014870</td>\n",
       "      <td>0.014184</td>\n",
       "      <td>0.065651</td>\n",
       "      <td>0.161757</td>\n",
       "      <td>0.007610</td>\n",
       "      <td>-0.047574</td>\n",
       "      <td>-0.021437</td>\n",
       "    </tr>\n",
       "    <tr>\n",
       "      <th>1</th>\n",
       "      <td>1</td>\n",
       "      <td>1</td>\n",
       "      <td>Hello my name is Eva and I do not support this...</td>\n",
       "      <td>[0.030697862, 0.05065392, -0.034959856, -0.014...</td>\n",
       "      <td>0.071163</td>\n",
       "      <td>0.030698</td>\n",
       "      <td>0.050654</td>\n",
       "      <td>-0.034960</td>\n",
       "      <td>-0.014841</td>\n",
       "      <td>-0.009940</td>\n",
       "      <td>...</td>\n",
       "      <td>0.007570</td>\n",
       "      <td>-0.040500</td>\n",
       "      <td>-0.033636</td>\n",
       "      <td>0.002352</td>\n",
       "      <td>0.018580</td>\n",
       "      <td>0.056462</td>\n",
       "      <td>0.136450</td>\n",
       "      <td>-0.006366</td>\n",
       "      <td>-0.055677</td>\n",
       "      <td>-0.032537</td>\n",
       "    </tr>\n",
       "    <tr>\n",
       "      <th>2</th>\n",
       "      <td>2</td>\n",
       "      <td>2</td>\n",
       "      <td>We are not accepting public comments at this time</td>\n",
       "      <td>[0.010806136, -0.025713393, -0.00017451386, 0....</td>\n",
       "      <td>0.070965</td>\n",
       "      <td>0.010806</td>\n",
       "      <td>-0.025713</td>\n",
       "      <td>-0.000175</td>\n",
       "      <td>0.008182</td>\n",
       "      <td>-0.058773</td>\n",
       "      <td>...</td>\n",
       "      <td>0.019821</td>\n",
       "      <td>0.045061</td>\n",
       "      <td>-0.022289</td>\n",
       "      <td>-0.019493</td>\n",
       "      <td>0.050189</td>\n",
       "      <td>-0.001603</td>\n",
       "      <td>0.090009</td>\n",
       "      <td>-0.030414</td>\n",
       "      <td>-0.066751</td>\n",
       "      <td>0.015786</td>\n",
       "    </tr>\n",
       "    <tr>\n",
       "      <th>3</th>\n",
       "      <td>3</td>\n",
       "      <td>3</td>\n",
       "      <td>Welcome to the meeting of the Seattle City Cou...</td>\n",
       "      <td>[0.036297053, -0.010011774, -0.034358032, -0.0...</td>\n",
       "      <td>0.425648</td>\n",
       "      <td>0.036297</td>\n",
       "      <td>-0.010012</td>\n",
       "      <td>-0.034358</td>\n",
       "      <td>-0.003031</td>\n",
       "      <td>0.037832</td>\n",
       "      <td>...</td>\n",
       "      <td>0.026945</td>\n",
       "      <td>-0.019815</td>\n",
       "      <td>-0.009853</td>\n",
       "      <td>-0.033627</td>\n",
       "      <td>-0.034199</td>\n",
       "      <td>0.027400</td>\n",
       "      <td>-0.045490</td>\n",
       "      <td>0.024472</td>\n",
       "      <td>-0.020053</td>\n",
       "      <td>-0.046001</td>\n",
       "    </tr>\n",
       "    <tr>\n",
       "      <th>4</th>\n",
       "      <td>4</td>\n",
       "      <td>4</td>\n",
       "      <td>We will have a presentation later on from the ...</td>\n",
       "      <td>[0.00076063693, -0.016124507, -0.017413434, -0...</td>\n",
       "      <td>0.575698</td>\n",
       "      <td>0.000761</td>\n",
       "      <td>-0.016125</td>\n",
       "      <td>-0.017413</td>\n",
       "      <td>-0.024016</td>\n",
       "      <td>0.023628</td>\n",
       "      <td>...</td>\n",
       "      <td>0.038259</td>\n",
       "      <td>0.005103</td>\n",
       "      <td>-0.044730</td>\n",
       "      <td>-0.021341</td>\n",
       "      <td>-0.008436</td>\n",
       "      <td>-0.011500</td>\n",
       "      <td>0.002520</td>\n",
       "      <td>-0.002502</td>\n",
       "      <td>0.003777</td>\n",
       "      <td>-0.044913</td>\n",
       "    </tr>\n",
       "    <tr>\n",
       "      <th>5</th>\n",
       "      <td>5</td>\n",
       "      <td>5</td>\n",
       "      <td>I am sorry, could you please explain that slid...</td>\n",
       "      <td>[-0.03183143, -0.04133318, 0.023597926, 0.0109...</td>\n",
       "      <td>0.272697</td>\n",
       "      <td>-0.031831</td>\n",
       "      <td>-0.041333</td>\n",
       "      <td>0.023598</td>\n",
       "      <td>0.010960</td>\n",
       "      <td>-0.010069</td>\n",
       "      <td>...</td>\n",
       "      <td>0.021068</td>\n",
       "      <td>0.039313</td>\n",
       "      <td>-0.009426</td>\n",
       "      <td>0.002631</td>\n",
       "      <td>0.002912</td>\n",
       "      <td>-0.024525</td>\n",
       "      <td>0.001060</td>\n",
       "      <td>-0.050434</td>\n",
       "      <td>-0.034723</td>\n",
       "      <td>-0.007274</td>\n",
       "    </tr>\n",
       "  </tbody>\n",
       "</table>\n",
       "<p>6 rows × 773 columns</p>\n",
       "</div>"
      ],
      "text/plain": [
       "   level_0 index                                               text  \\\n",
       "0        0     0       Hello my name is Eva and I support this bill   \n",
       "1        1     1  Hello my name is Eva and I do not support this...   \n",
       "2        2     2  We are not accepting public comments at this time   \n",
       "3        3     3  Welcome to the meeting of the Seattle City Cou...   \n",
       "4        4     4  We will have a presentation later on from the ...   \n",
       "5        5     5  I am sorry, could you please explain that slid...   \n",
       "\n",
       "                                           embedding  similarity  \\\n",
       "0  [0.03396301, 0.04418882, -0.03652103, 0.000163...    0.086764   \n",
       "1  [0.030697862, 0.05065392, -0.034959856, -0.014...    0.071163   \n",
       "2  [0.010806136, -0.025713393, -0.00017451386, 0....    0.070965   \n",
       "3  [0.036297053, -0.010011774, -0.034358032, -0.0...    0.425648   \n",
       "4  [0.00076063693, -0.016124507, -0.017413434, -0...    0.575698   \n",
       "5  [-0.03183143, -0.04133318, 0.023597926, 0.0109...    0.272697   \n",
       "\n",
       "   embedding_dim_0  embedding_dim_1  embedding_dim_2  embedding_dim_3  \\\n",
       "0         0.033963         0.044189        -0.036521         0.000163   \n",
       "1         0.030698         0.050654        -0.034960        -0.014841   \n",
       "2         0.010806        -0.025713        -0.000175         0.008182   \n",
       "3         0.036297        -0.010012        -0.034358        -0.003031   \n",
       "4         0.000761        -0.016125        -0.017413        -0.024016   \n",
       "5        -0.031831        -0.041333         0.023598         0.010960   \n",
       "\n",
       "   embedding_dim_4  ...  embedding_dim_758  embedding_dim_759  \\\n",
       "0        -0.022653  ...          -0.005820          -0.046426   \n",
       "1        -0.009940  ...           0.007570          -0.040500   \n",
       "2        -0.058773  ...           0.019821           0.045061   \n",
       "3         0.037832  ...           0.026945          -0.019815   \n",
       "4         0.023628  ...           0.038259           0.005103   \n",
       "5        -0.010069  ...           0.021068           0.039313   \n",
       "\n",
       "   embedding_dim_760  embedding_dim_761  embedding_dim_762  embedding_dim_763  \\\n",
       "0          -0.019358           0.014870           0.014184           0.065651   \n",
       "1          -0.033636           0.002352           0.018580           0.056462   \n",
       "2          -0.022289          -0.019493           0.050189          -0.001603   \n",
       "3          -0.009853          -0.033627          -0.034199           0.027400   \n",
       "4          -0.044730          -0.021341          -0.008436          -0.011500   \n",
       "5          -0.009426           0.002631           0.002912          -0.024525   \n",
       "\n",
       "   embedding_dim_764  embedding_dim_765  embedding_dim_766  embedding_dim_767  \n",
       "0           0.161757           0.007610          -0.047574          -0.021437  \n",
       "1           0.136450          -0.006366          -0.055677          -0.032537  \n",
       "2           0.090009          -0.030414          -0.066751           0.015786  \n",
       "3          -0.045490           0.024472          -0.020053          -0.046001  \n",
       "4           0.002520          -0.002502           0.003777          -0.044913  \n",
       "5           0.001060          -0.050434          -0.034723          -0.007274  \n",
       "\n",
       "[6 rows x 773 columns]"
      ]
     },
     "execution_count": 80,
     "metadata": {},
     "output_type": "execute_result"
    }
   ],
   "source": [
    "for i, embedding_dim in enumerate(model.encode(corpus.text).T):\n",
    "    corpus[f\"embedding_dim_{i}\"] = embedding_dim\n",
    "\n",
    "corpus = corpus.copy()\n",
    "corpus = corpus.reset_index()\n",
    "corpus[\"index\"] = corpus[\"index\"].astype(str)"
   ]
  },
  {
   "cell_type": "code",
   "execution_count": 88,
   "id": "5d8d73c4-7784-426a-9797-a20cda2d4b2a",
   "metadata": {},
   "outputs": [
    {
     "data": {
      "text/plain": [
       "<seaborn.axisgrid.PairGrid at 0x7fdd888773d0>"
      ]
     },
     "execution_count": 88,
     "metadata": {},
     "output_type": "execute_result"
    },
    {
     "data": {
      "image/png": "[encoded data removed]",
      "text/plain": [
       "<Figure size 1058.88x1000 with 20 Axes>"
      ]
     },
     "metadata": {},
     "output_type": "display_data"
    }
   ],
   "source": [
    "sns.pairplot(data=corpus[[\"index\", \"embedding_dim_0\", \"embedding_dim_1\", \"embedding_dim_2\", \"embedding_dim_3\"]], hue=\"index\")"
   ]
  },
  {
   "cell_type": "markdown",
   "id": "c894cd84-eed4-4368-9a08-209c4324b6ca",
   "metadata": {},
   "source": [
    "* With 768 dimensions we very quickly start to lose track of what each dimension may encode\n",
    "* fortunately there are tools that try to downsample all of these dimensions down to just 2 for plotting purposes"
   ]
  },
  {
   "cell_type": "markdown",
   "id": "543e8865-2d68-4a96-8067-545d700adc54",
   "metadata": {},
   "source": [
    "### UMAP"
   ]
  },
  {
   "cell_type": "code",
   "execution_count": null,
   "id": "799f891f-1639-4429-ae5e-50ef3e4a8198",
   "metadata": {},
   "outputs": [],
   "source": []
  }
 ],
 "metadata": {
  "kernelspec": {
   "display_name": "Python 3 (ipykernel)",
   "language": "python",
   "name": "python3"
  },
  "language_info": {
   "codemirror_mode": {
    "name": "ipython",
    "version": 3
   },
   "file_extension": ".py",
   "mimetype": "text/x-python",
   "name": "python",
   "nbconvert_exporter": "python",
   "pygments_lexer": "ipython3",
   "version": "3.10.11"
  }
 },
 "nbformat": 4,
 "nbformat_minor": 5
}
