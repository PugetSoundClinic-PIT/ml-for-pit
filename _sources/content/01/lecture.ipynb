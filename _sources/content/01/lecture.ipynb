{
 "cells": [
  {
   "cell_type": "markdown",
   "id": "101c4de1-44c6-4b2a-9f5b-0bd3134f4c1f",
   "metadata": {},
   "source": [
    "# Lecture 1 -- About This Course"
   ]
  },
  {
   "cell_type": "markdown",
   "id": "afab0f9e-5939-46e5-ade6-849490b31e55",
   "metadata": {},
   "source": [
    "## Introduction\n",
    "\n",
    "Welcome to Machine Learning for Public Interest Technologists\n",
    "\n",
    "---\n",
    "\n",
    "Hi! 👋\n",
    "\n",
    "I'm Eva Maxfield Brown and I built this free interactive course so you can learn more about how machine learning methods can be applied to public interest data and technology -- specifically using text as data for processing and analysis."
   ]
  },
  {
   "cell_type": "markdown",
   "id": "26c8788e-b336-4377-aa00-d66c4a5ab79a",
   "metadata": {},
   "source": [
    "## In this course we will...\n",
    "\n",
    "This course is intended for learners who have a bit of experience in Python and data analysis and are interested in researching or working in public interest technology. This is not meant to be an all-encompasing look at the field but rather, a gental introduction to how the two can overlap and benefit each other. In short, in this course we will:\n",
    "\n",
    "* learn about public interest technology\n",
    "* explore methods for processing and analyzing large text based datasets\n",
    "* practice implementing supervised machine learning models for text classification\n",
    "* apply pre-existing, freely available, state-of-the-art machine learning models\n",
    "* combine multiple processing methods together to analyze a dataset of city council meetings"
   ]
  },
  {
   "cell_type": "markdown",
   "id": "c407e6eb-90ef-4f50-90f8-a361af87b103",
   "metadata": {},
   "source": [
    "## We will need...\n",
    "\n",
    "We have designed the course to meet three goals:\n",
    "\n",
    "1. practice your existing skills with Python, scientific libraries, and visualization\n",
    "2. introduce and provide you with new processing and analysis methods to use\n",
    "3. demonstrate how these methods can be applied in a sub-field of public interest technology\n",
    "\n",
    "To set ourselves up for success, we will need:\n",
    "\n",
    "* some experience with Python and common scientific Python libraries such as [pandas](https://pandas.pydata.org/), [numpy](https://numpy.org/), and [scikit-learn](https://scikit-learn.org/stable/index.html).\n",
    "* a basic understanding of vectors and linear algebra\n",
    "    * If you need to brush up on either of these topics, we recommend watching 3Blue1Brown's excellent [\"Essence of Linear Algebra\" series on YouTube](https://www.youtube.com/watch?v=fNk_zzaMoSs&list=PLZHQObOWTQDPD3MizzM2xVFitgF8hE_ab).\n",
    "* a Google / gmail account for access to Google Colab"
   ]
  },
  {
   "cell_type": "markdown",
   "id": "7c9de2b2-8a94-4d32-934b-161a95347c00",
   "metadata": {},
   "source": [
    "## Course Outline\n",
    "\n",
    "We will first introduce and discuss municipal legislative data and the specific dataset we will be using throughout this course. We will then utilize a few various methods for exploratory data analysis and data processing, which we will ultimately utilize in our final chapter where we will combine multiple methods together to build a larger analysis of our dataset which provides insight into how city council meeting discussion may differ across the country.\n",
    "\n",
    "1. About this Course\n",
    "    * What we will do, what we will need, outlining the course as a whole, and getting setup.\n",
    "2. Municipal Legislative Data\n",
    "    * Brief introduction and background on municipal government data. The various types of data, and what type of government data we will focus on in this course.\n",
    "3. Counting Words\n",
    "    * Using word counts to describe discussion in city council meetings.\n",
    "4. Semantic Embeddings\n",
    "    * Using state-of-the-art word embeddings to enable querying and searching, as well as visualizing discussion areas in city council meetings.\n",
    "5. Text Classification\n",
    "    * Learning how text classification can help us in processing large amounts of text data. Annotating text and training our own text classification models.\n",
    "6. Pre-trained Models\n",
    "    * Understanding how to discover and use state-of-the-art machine learning models on our own data.\n",
    "7. Analysis and Visualization\n",
    "    * Utilizing multiple methods for data processing to analyze city council meeting discussion."
   ]
  },
  {
   "cell_type": "markdown",
   "id": "1248009d-b0a3-4eef-93df-f06e9b7efde6",
   "metadata": {},
   "source": [
    "## How to Navigate this Course\n",
    "\n",
    "This course is entirely created and taught using Jupyter Notebooks and Google Colab.\n",
    "\n",
    "Each chapter will have three parts:\n",
    "\n",
    "1. A \"lecture\" / \"reading\" portion where we will first go through and explain the core concepts of the chapter and additionally provide an example in Python.\n",
    "\n",
    "2. At the end of each lecture, we will provide a link to an exercise that you should open in Google Colab and try for yourself.\n",
    "\n",
    "3. Finally, we will additionally provide a link to reference code for how we completed the exercise for you to compare you work against ours.\n",
    "\n",
    "While the exercises should be completed interactively, all course content is reproducible. If you ever want to play around with the lecture content or reference code, you should feel free to do so by clicking the \"Launch in Colab\" button."
   ]
  }
 ],
 "metadata": {
  "kernelspec": {
   "display_name": "Python 3 (ipykernel)",
   "language": "python",
   "name": "python3"
  },
  "language_info": {
   "codemirror_mode": {
    "name": "ipython",
    "version": 3
   },
   "file_extension": ".py",
   "mimetype": "text/x-python",
   "name": "python",
   "nbconvert_exporter": "python",
   "pygments_lexer": "ipython3",
   "version": "3.10.11"
  }
 },
 "nbformat": 4,
 "nbformat_minor": 5
}
