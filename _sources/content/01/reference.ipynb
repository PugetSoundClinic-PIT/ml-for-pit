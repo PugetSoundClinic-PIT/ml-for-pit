{
 "cells": [
  {
   "cell_type": "markdown",
   "id": "b7bd7a2d-4464-4baf-9c22-ce4006471598",
   "metadata": {},
   "source": [
    "# Exercise 1 - Reference Code"
   ]
  },
  {
   "cell_type": "code",
   "execution_count": null,
   "id": "7cee07cc-0cd3-4017-bbed-2c5b4bbec1e6",
   "metadata": {},
   "outputs": [],
   "source": []
  }
 ],
 "metadata": {
  "kernelspec": {
   "display_name": "Python 3 (ipykernel)",
   "language": "python",
   "name": "python3"
  },
  "language_info": {
   "codemirror_mode": {
    "name": "ipython",
    "version": 3
   },
   "file_extension": ".py",
   "mimetype": "text/x-python",
   "name": "python",
   "nbconvert_exporter": "python",
   "pygments_lexer": "ipython3",
   "version": "3.10.11"
  }
 },
 "nbformat": 4,
 "nbformat_minor": 5
}
