{
 "cells": [
  {
   "cell_type": "markdown",
   "metadata": {},
   "source": [
    "# Lecture 6 -- Pre-trained Models"
   ]
  },
  {
   "cell_type": "markdown",
   "metadata": {},
   "source": [
    "## Outline\n",
    "\n",
    "* in many cases, training your own model may be the best thing you can do as you have full control over the data, training, and the evaluation process.\n",
    "\n",
    "* however, this lecture will go over pre-trained models and more generally, models that are freely available for you to use.\n",
    "\n",
    "* pretrained and freely available models have become incredibly common and are often a good starting point for experimentation and more.\n",
    "\n",
    "* we will go over a few examples of pretrained models and how to use them including models for:\n",
    "    * sentiment analysis\n",
    "    * summarization\n",
    "    * named entity recognition"
   ]
  },
  {
   "cell_type": "markdown",
   "metadata": {},
   "source": [
    "## Generalization vs Specialization\n",
    "\n",
    "* in the prior chapter we talked about how for some tasks we need to train our own model because we want to define the annotation criteria or we are in a very niche sub-domain.\n",
    "\n",
    "* however, using pre-trained models that are general to a task can also be quite useful -- especially considering that they were likely trained with more data than the dataset you are working with"
   ]
  },
  {
   "cell_type": "markdown",
   "metadata": {},
   "source": [
    "## Transformers and Huggingface\n",
    "\n",
    "* We have introduced and used transformers, a model architecture\n",
    "\n",
    "* huggingface is a company which builds tools around various model architectures to make them easily shareable\n",
    "\n",
    "* for example, here is a link to their website in which you can search and browse for available models: https://huggingface.co/models\n",
    "* every single model is available for download and use and in many cases has some documentation attached to understand how to use the model in your own work"
   ]
  },
  {
   "cell_type": "markdown",
   "metadata": {},
   "source": [
    "## Sentiment Analysis\n",
    "\n",
    "* sentiment analysis is a task in which we want to predict the sentiment of a text\n",
    "* sentiment is often defined as positive, negative, or neutral\n",
    "* for example, the phrase: \"I love this movie\" would be positive and \"I hate this movie\" would be negative\n",
    "\n",
    "* sentiment analysis is a very common task and there are many datasets available for it\n",
    "* for example, here is a dataset of movie reviews: https://www.kaggle.com/lakshmi25npathi/imdb-dataset-of-50k-movie-reviews\n",
    "\n",
    "* there are many models available for sentiment analysis on huggingface (and elsewhere) but for our examples, we will use:\n",
    "\"cardiffnlp/twitter-roberta-base-sentiment-latest\" (https://huggingface.co/cardiffnlp/twitter-roberta-base-sentiment-latest)\n",
    "  * this model was trained on millions of pairs of sentiment labeled tweets\n",
    "\n",
    "* lets load the model and try it on a few examples"
   ]
  },
  {
   "cell_type": "code",
   "execution_count": null,
   "metadata": {},
   "outputs": [],
   "source": [
    "from transformers import pipeline\n",
    "\n",
    "model = pipeline(\n",
    "    \"sentiment-analysis\",\n",
    "    model=\"cardiffnlp/twitter-roberta-base-sentiment-latest\",\n",
    ")\n",
    "\n",
    "# Predict sentiment of the statement\n",
    "model(\"I am happy to see that other members of the council are supporting this important legislation.\")"
   ]
  },
  {
   "cell_type": "markdown",
   "metadata": {},
   "source": [
    "* we can see that for the phrase `\"I am happy to see that other members of the council are supporting this important legislation.\"` the model predicts a positive sentiment and given a score\n",
    "\n",
    "* you can interpret the `score` value as the model's confidence in the prediction\n",
    "* the higher the score, the more confident the model is in the prediction (in this case, the model is very confident that the sentiment is positive)\n",
    "\n",
    "* lets try a few more examples"
   ]
  },
  {
   "cell_type": "code",
   "execution_count": null,
   "metadata": {},
   "outputs": [],
   "source": [
    "# Give the model multiple examples at once by providing a list\n",
    "model([\n",
    "    \"I urge the members of the committee to vote against this bill.\",\n",
    "    (\n",
    "        \"If the amendment from Councilmember Brown passes, I will vote in support of this legislation. \"\n",
    "        \"But without the amendment, I cannot agree to move forward with this legislation.\"\n",
    "    ),\n",
    "])"
   ]
  },
  {
   "cell_type": "markdown",
   "metadata": {},
   "source": [
    "* This time we can see that the model is confident that the sentiment of the first example (`\"I urge the members of the committee to vote against this bill.\"`) is negative and the second example (`\"But without the amendment, I cannot agree to move forward with this legislation.\"`) is neutral.\n",
    "\n",
    "* This makes sense to me, as the second example is specifically discussing conditions of agreement or disagreement which places it somewhere in a neutral category."
   ]
  },
  {
   "cell_type": "markdown",
   "metadata": {},
   "source": [
    "### Limitations and Warnings\n",
    "\n",
    "* Sentiment can be subjective and it is important to understand the limitations of the model and the data it was trained on, and who annotated the data.\n",
    "\n",
    "* The model we used for sentiment was trained using twitter data -- twitter posts are obviously different than meeting discussion\n",
    "\n",
    "* this can affect the model and we should always evaluate the performance of even off the shelf models\n",
    "\n",
    "* in general, when using a model, be sure to read how it was trained, what data it used for training, and understand the possible biases and problems that come from using a model trained by someone else\n",
    "\n",
    "* try to find a model that was trained on data close to yours for the best results"
   ]
  },
  {
   "cell_type": "markdown",
   "metadata": {},
   "source": [
    "## Summarization\n",
    "\n",
    "* summarization can be an important task for processing long documents such as multiple hour long meeting transcripts\n",
    "\n",
    "* there can be direct reader benefits by trying to extract or explain the main points of a meeting for example\n",
    "\n",
    "* using generated summaries can also be useful for other tasks such as information retrieval (i.e. instead of searching across the whole meeting, you can search across the summary), or for other situations in which you simply can't fit the whole meeting into memory of the model but can fit the summary\n",
    "\n",
    "* the two main types of summarization are extractive and abstractive\n",
    "\n",
    "* extractive summarization is when you extract sentences from the original document and combine them to form a summary\n",
    "\n",
    "* abstractive summarization is when you generate new sentences that are not in the original document to form a summary\n",
    "\n",
    "* someone has already taken the time to train a model for meeting dialoge summarization: https://huggingface.co/knkarthick/MEETING_SUMMARY\n",
    "\n",
    "* lets use this model to generate a summary for a meeting\n",
    "\n",
    "* first lets pull down some data and prep the data for the model"
   ]
  },
  {
   "cell_type": "code",
   "execution_count": 1,
   "metadata": {},
   "outputs": [
    {
     "data": {
      "application/vnd.jupyter.widget-view+json": {
       "model_id": "88afa1650c0a4b1f9c896c8a7167f4bd",
       "version_major": 2,
       "version_minor": 0
      },
      "text/plain": [
       "Fetching each model attached to event_ref:   0%|          | 0/1 [00:00<?, ?it/s]"
      ]
     },
     "metadata": {},
     "output_type": "display_data"
    },
    {
     "data": {
      "application/vnd.jupyter.widget-view+json": {
       "model_id": "4106c0e2cd3749bd83688255d2e15def",
       "version_major": 2,
       "version_minor": 0
      },
      "text/plain": [
       "Fetching transcripts:   0%|          | 0/1 [00:00<?, ?it/s]"
      ]
     },
     "metadata": {},
     "output_type": "display_data"
    },
    {
     "data": {
      "application/vnd.jupyter.widget-view+json": {
       "model_id": "d176e5148d344f97a6a05c94f879d4a4",
       "version_major": 2,
       "version_minor": 0
      },
      "text/plain": [
       "Converting transcripts:   0%|          | 0/1 [00:00<?, ?it/s]"
      ]
     },
     "metadata": {},
     "output_type": "display_data"
    },
    {
     "data": {
      "text/plain": [
       "855"
      ]
     },
     "execution_count": 1,
     "metadata": {},
     "output_type": "execute_result"
    }
   ],
   "source": [
    "from cdp_data import CDPInstances, datasets\n",
    "import pandas as pd\n",
    "\n",
    "sessions = datasets.get_session_dataset(\n",
    "    CDPInstances.Seattle,\n",
    "    start_datetime=\"2022-05-01\",\n",
    "    end_datetime=\"2022-05-03\",\n",
    "    store_transcript=True,\n",
    "    store_transcript_as_csv=True,\n",
    ")\n",
    "\n",
    "single_session_transcript = pd.read_csv(sessions.iloc[0].transcript_as_csv_path)\n",
    "len(single_session_transcript)"
   ]
  },
  {
   "cell_type": "code",
   "execution_count": 9,
   "metadata": {},
   "outputs": [],
   "source": [
    "# Because are meetings are incredibly long\n",
    "# lets create a strings with different portions of the meeting\n",
    "# to pass to the model\n",
    "parts = []\n",
    "n_sentences_per_chunk = 30\n",
    "for index in range(\n",
    "    0,\n",
    "    len(single_session_transcript),\n",
    "    n_sentences_per_chunk,\n",
    "):\n",
    "    parts.append(\n",
    "        \" \".join(\n",
    "            single_session_transcript.iloc[index:index+n_sentences_per_chunk].text\n",
    "        )\n",
    "    )"
   ]
  },
  {
   "cell_type": "markdown",
   "metadata": {},
   "source": [
    "* now that we have multiple chunks, lets first pass in just the first chunk to the model and see what it generates\n",
    "\n",
    "\n",
    "For reference, here is the full text of the first chunk:\n",
    "\n",
    "> \"I will call the roll on May 2nd. May 2nd, 2022 Council briefing meeting will come to order. I am Andrew Lewis, Council President pro tem. The time is 2.01 p.m. Will the clerk please call the roll? Councilmember Wilson? Present. Councilmember Peterson? Present. Councilmember Sawant? Present. Councilmember Strauss? Present. Councilmember Herbold? Present. Councilmember Williams? Present. Councilmember Gattas? Present. Councilmember Herbold? Here. Councilmember Morales? Present. Councilmember Pro Tem Lewis? Present. Six present. Thank you. We will move on to approval of the minutes. If there is no objection, the minutes of May 2nd, 2022 will be adopted. Hearing no objection, the minutes are adopted. The President's report. I will call the roll on May 2nd, 2022 Council briefing meeting will come to order. I am Andrew Lewis, Council President pro tem. The time is 2.01 p.m. Will the clerk please call the roll? Councilmember Wilson? Present. Councilmember Peterson? Present. Councilmember Sawant? Present. Councilmember Peterson? Present. Councilmember Herbold? Here. Councilmember Morales? Present. Councilmember Gattas? Present. Councilmember Herbold? Present. Councilmember Gattas? Present. I am filling in. As folks may be aware for Council President Juarez. I do not have any. Reports at the top of the meeting. Except to give a brief preview of the full council. Agenda that we will be considering. As a council tomorrow.\""
   ]
  },
  {
   "cell_type": "code",
   "execution_count": 7,
   "metadata": {},
   "outputs": [
    {
     "data": {
      "text/plain": [
       "[{'summary_text': 'Andrew Lewis, Council President pro tem, will call the roll on May 2nd, 2022 at 2.01 p.m. Councilmember Wilson, Councilmember Peterson, Councilmembers Sawant, Strauss, Herbold, Williams, Gattas, Morales and Pro Tem Lewis are present. If there is no objection, the minutes will be adopted.'}]"
      ]
     },
     "execution_count": 7,
     "metadata": {},
     "output_type": "execute_result"
    }
   ],
   "source": [
    "from transformers import pipeline\n",
    "summarizer = pipeline(\"summarization\", model=\"philschmid/bart-large-cnn-samsum\")\n",
    "\n",
    "# Summarize the first part of the meeting\n",
    "summarizer(parts[0])"
   ]
  },
  {
   "cell_type": "markdown",
   "metadata": {},
   "source": [
    "* We can see that the summary is short and to the point and generally captures the main idea of this chunk. Which is simply that the meeting has begun roll call took place.\n",
    "\n",
    "* However it is definitely missing some specificity and details that would be useful for a reader.\n",
    "\n",
    "* Lets summarize the rest of the chunks and see what we get back"
   ]
  },
  {
   "cell_type": "code",
   "execution_count": 10,
   "metadata": {},
   "outputs": [
    {
     "name": "stderr",
     "output_type": "stream",
     "text": [
      "100%|██████████| 29/29 [04:06<00:00,  8.51s/it]"
     ]
    },
    {
     "name": "stdout",
     "output_type": "stream",
     "text": [
      "Andrew Lewis, Council President Pro Tem, will call the roll on May 2nd, 2022 at 2.01 p.m. Councilmember Wilson, Peterson, Sawant, Strauss, Herbold, Williams, Gattas, Morales, and Lewis are present. If there is no objection, the minutes will be adopted. Andrew Lewis is the Council President pro tem. The time is 2.01 p.m. Councilmember Wilson, Peterson, Sawant, Morales, Herbold and Gattas are present. Andrew is filling in for Council President Juarez, who is absent. Tomorrow's full council meeting is going to be the agenda for tomorrow's full meeting. Council member Nelson will lead the discussion on the proclamation declaring May 1st through May 7th to be national small business week. Council will also review several ordinances related to the Wagner floating home and the center for wooden boats. Tim Lewis is the first small business owner on the council in over 10 years. Seattle has hosted a national small business week every year since 1963. Seattle metro area has the seventh most small businesses per capita among large metro areas in the U.S. Mike Fong, the regional director of the small business association, will accept the proclamation. The clerk called the roll to determine which council members will be included in the 2021 Council small business week. Council members Nelson, Peterson, Selante, Strauss, Herbold, Morales, Lewis, and the council president pro-tem Lewis signed the proclamation. The next proclamation proclaims Sunday, May 14th to be Scott Morrow day. Rich Campbell at the Keystone United church of Christ in Seattle road will open his church sanctuary as an emergency shelter for homeless people. Scott was an activist and organizer in Seattle. He helped found share in 1990 and Nicholsville in 2008 organizations that operate in Seattle and are democratically self-run by their residents. Madam clerk will call the role to determine which council members would like to be called for today. Council members want, Nelson, Peterson, Strauss, Morales, Lewis and the president pro-tem will be called. Seven signatures will be affixed to the proclamation. The minutes will be reviewed again. Council president Juarez and council member Mosqueda are excused from today's meeting. The roll call today order will be a council member Nelson. Council member Peterson is called last. Council members Sawant and Peterson are absent. The minutes will be adopted. Council member Nelson, council president pro-tem Lewis, council members Strauss, Herbold, Morales, and myself are recognized. Council member Lewis put forward a resolution to address SPD's staffing shortage at the April 26th public safety and human services committee. Council resolutions are statements of council's policy intent, which is often misrepresented. Council member Mosqueda wants to introduce a resolution to lift the budget proviso and approve the specifics of the incentive program to recruit law enforcement officers. Council member Herbold will co-sponsor the bill. Mayor Harold supports the idea. Chief Diaz confirms that incentives would be helpful. Council member Nelson wants to take the lead on the staffing incentive program for the Seattle Police Department. He also participated in the public safety forum, the coalition to end gendered violence fundraiser on Thursday night and the Vietnamese communities 47th commemoration of April 30th day event at the West Seattle Vietnamese cultural center. His staff will be attending the central Puget sound economic board meeting on his behalf. He will tour Seattle icons next week, the Seattle monorail and the Woodland park zoo. Tomorrow's introduction and referral calendar will include mayor Harrell's nomination of Andrew Lee to be the permanent general manager and CEO of Seattle public utilities. The committee will vote on the nomination on Tuesday, June 7 at 9:30 AM. The next committee meeting of transportation and Seattle public Utilities is scheduled for Tuesday, May 17 at 9 30 AM. It's likely to consider six items. The sustainability and renters rights committee's meeting on Friday is cancelled. The next meeting will be on 20th of January at 9:30 am. There will be a discussion on electrifying the dredge trucks that call in and out of the port of Seattle and on the legislation to include rent information in the rental registration and inspections ordinance. Last week in district six, there was a new enrollment opportunity at the Seattle central college. Now is the time to apply for the maritime academy. Last week, he also had the opportunity to speak to the green lake chamber of commerce. He continues to work with the mayor's office, the department of commerce, the city of Seattle and Memphis to discuss how to save the tree. As of April 21st, we've moved at least 30 people inside and we are still actively moving people inside. At this point, nearly everyone on the by-name list has been offered their preferred shelter option. The proposed removals timeline is dictated by shelter and housing availability. The park will be temporarily closed for mediation. This week in district six, I'll be attending a meeting with Tom Fain, Rick Sheridan, about the Ballard library activation planning. I'll also be hosting a public safety meeting with the city of Washington. I haven't presented it to north precinct in a couple of months, but I have been able to present it to the other two in the last month. I will also host my weekly office hours with D six residents this Thursday from 2 PM to 6 30 PM. There was a curfew in Ballard during the months of April through August and after 8 PM, the rest of the year. Children found in violation could be fined up to $5 or jailed for up to two days. The town Marshal was to ring the firebell each night to signal the start of the curfew. It was overridden by the Ballard city council on May 29th 1907 with 996 votes in favor and 874 votes opposed. There are five agenda items on the agenda at Seattle City Hall. Council members will vote on council bill one two zero two eight seven, which updates regulations to rooftop features on new buildings, a briefing on OPC, community engagement efforts around the comprehensive major update, and appointments to the urban forestry commission design commission and design review boards. There is no public safety and human services committee on the full council agenda for tomorrow's meeting. The next item on the agenda is public hearing for council bill 12, 0 2 94, otherwise known as the pay up legislation on minimum compensation, transparency, and flexibility. The full council meets on Tuesdays. AARP research shows 77% of older people want to live independently and grow, grow old in the home or community of their choice. For a black adult life expectancy is 82 years. Life expectancy for a black male is nine years less than, or a white female. It's Older Americans month. Seattle is proud to be a part of that. 13 people were arrested in organized retail theft investigation. Some of them were booked for burglary. Seattle heard from. The Program. It's committed to the overarching goal of an age friendly Seattle. The legislation passed the committee without amendments and several county council members spoke in favor. The legislation will be expedited and considered tomorrow. The West Seattle Chamber of Commerce invited SPD to present on the investigation outcomes of the retail theft program to their committee a couple of months ago. Nelson wants to know why Nelson walked in front of the council president. Nelson has a map of the legislation intake and review calendar, which is about five weeks long. Nelson wants to hear Nelson's reasons for disrespecting the president by walking. Nelson will present the map tomorrow. Council president declined to expedite getting her bill onto this week's IRC. Council president will be at the full council meeting on May 10th. She declined out of respect for the council president. Council President Juarez wants to push the bill through without going through the proper channels. Nelson would like to see if there will be a final vote on the council bill. Council members are fully empowered to vote for or against a procedural. thing for any reason they see prudent and share with colleagues why that is. Nelson would rather not have a debate right now in council briefing about this matter. Council member Herbold wants to know how the agenda will be queued up tomorrow for him. Council approved two appointments for the Seattle arts commission on April 22nd and passed two landmark preservation ordinances on the same day. Council member herbal wants to discuss the appointment of Hamdi Mohammed as the director of the office of immigration and refugee affairs on May 27th. Last week, she attended the King County growth management planning council and the executive board, where they approved the regional transportation plan. She also attended the coalition to end gender-based violence celebration at the Rainier art center. This week she will be hosting her regular monthly Mount Baker community meeting on Wednesday and attending the Columbia city farmer's markets. This week my office will be submitting an application for a package of comprehensive plan amendments. Chocolaty reopens to the public at the central library from 10 AM to 3 PM on Monday through Saturday. Public meeting rooms in libraries officially begin usage today. Seattle public libraries continues to transition back to making them available. Council member Nelson and his staff are going to visit a candle company and a social justice incubator on May 6th. Council member Peterson submitted his comments on sound transit three and the environmental impact statement last week before the deadline for the comments. The next council briefing is on May 9th, 2022 at 2 PM.\n"
     ]
    },
    {
     "name": "stderr",
     "output_type": "stream",
     "text": [
      "\n"
     ]
    }
   ],
   "source": [
    "from tqdm import tqdm\n",
    "results = []\n",
    "for part in tqdm(parts):\n",
    "    summary = summarizer(part)[0][\"summary_text\"]\n",
    "    results.append(summary)\n",
    "\n",
    "print(\" \".join(results))"
   ]
  },
  {
   "cell_type": "code",
   "execution_count": null,
   "metadata": {},
   "outputs": [],
   "source": []
  },
  {
   "cell_type": "markdown",
   "metadata": {},
   "source": []
  }
 ],
 "metadata": {
  "kernelspec": {
   "display_name": "ml-for-pit",
   "language": "python",
   "name": "python3"
  },
  "language_info": {
   "codemirror_mode": {
    "name": "ipython",
    "version": 3
   },
   "file_extension": ".py",
   "mimetype": "text/x-python",
   "name": "python",
   "nbconvert_exporter": "python",
   "pygments_lexer": "ipython3",
   "version": "3.10.11"
  }
 },
 "nbformat": 4,
 "nbformat_minor": 2
}
