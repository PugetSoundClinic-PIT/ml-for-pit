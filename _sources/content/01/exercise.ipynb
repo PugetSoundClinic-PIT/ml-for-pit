{
 "cells": [
  {
   "cell_type": "markdown",
   "id": "cade9dc2-13c3-4e44-b2d5-f163e4034454",
   "metadata": {},
   "source": [
    "# Exercise 1 -- Getting Setup with Colab"
   ]
  },
  {
   "cell_type": "code",
   "execution_count": null,
   "id": "54605160-3974-4a99-a5d5-cc5060e68224",
   "metadata": {},
   "outputs": [],
   "source": []
  }
 ],
 "metadata": {
  "kernelspec": {
   "display_name": "Python 3 (ipykernel)",
   "language": "python",
   "name": "python3"
  },
  "language_info": {
   "codemirror_mode": {
    "name": "ipython",
    "version": 3
   },
   "file_extension": ".py",
   "mimetype": "text/x-python",
   "name": "python",
   "nbconvert_exporter": "python",
   "pygments_lexer": "ipython3",
   "version": "3.10.11"
  }
 },
 "nbformat": 4,
 "nbformat_minor": 5
}
