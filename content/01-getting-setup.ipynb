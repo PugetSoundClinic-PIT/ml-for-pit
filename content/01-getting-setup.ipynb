{
 "cells": [
  {
   "attachments": {},
   "cell_type": "markdown",
   "metadata": {},
   "source": [
    "# Getting Setup\n",
    "\n",
    "Here is a GitHub repository that includes some getting your environment setup directions and a getting-setup.ipynb with some examples with the data: https://github.com/PugetSoundClinic-PIT/sig-cdp (link directly to getting setup notebook: https://github.com/PugetSoundClinic-PIT/sig-cdp/blob/main/getting-started.ipynb\n",
    "\n",
    "It also has some programming questions stored in a notebook called questions.ipynb that I would like you all to do to start with the data: https://github.com/PugetSoundClinic-PIT/sig-cdp/blob/main/questions.ipynb\n",
    "\n",
    "You can clone that repo, you can fork it, you can use it as a template. Whatever you want, just please review that getting setup notebook and work on the questions notebook. If you get stuck, or some package installation fails, or you are confused, post a message here!"
   ]
  },
  {
   "cell_type": "markdown",
   "metadata": {},
   "source": []
  }
 ],
 "metadata": {
  "kernelspec": {
   "display_name": "ml-for-pit",
   "language": "python",
   "name": "python3"
  },
  "language_info": {
   "name": "python",
   "version": "3.11.0"
  },
  "orig_nbformat": 4,
  "vscode": {
   "interpreter": {
    "hash": "58cd6e08b9735120d5b4eff7d74c8f325757ca8d93d795a23730f4ff64520fa2"
   }
  }
 },
 "nbformat": 4,
 "nbformat_minor": 2
}
